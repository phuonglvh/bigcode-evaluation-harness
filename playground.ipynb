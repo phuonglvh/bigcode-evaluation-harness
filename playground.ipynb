{
 "cells": [
  {
   "cell_type": "code",
   "execution_count": null,
   "metadata": {},
   "outputs": [],
   "source": [
    "# Load model directly\n",
    "from transformers import AutoTokenizer, AutoModelForCausalLM\n",
    "\n",
    "tokenizer = AutoTokenizer.from_pretrained(\"codellama/CodeLlama-34b-hf\")\n",
    "model = AutoModelForCausalLM.from_pretrained(\"codellama/CodeLlama-34b-hf\")"
   ]
  },
  {
   "cell_type": "code",
   "execution_count": null,
   "metadata": {},
   "outputs": [],
   "source": [
    "from transformers import AutoTokenizer\n",
    "import transformers\n",
    "import torch\n",
    "\n",
    "model = \"codellama/CodeLlama-34b-hf\"\n",
    "\n",
    "tokenizer = AutoTokenizer.from_pretrained(model)\n",
    "pipeline = transformers.pipeline(\n",
    "    \"text-generation\",\n",
    "    model=model,\n",
    "    torch_dtype=torch.float16,\n",
    "    device_map=\"auto\",\n",
    ")\n",
    "\n",
    "sequences = pipeline(\n",
    "    'import socket\\n\\ndef ping_exponential_backoff(host: str):',\n",
    "    do_sample=True,\n",
    "    top_k=10,\n",
    "    temperature=0.1,\n",
    "    top_p=0.95,\n",
    "    num_return_sequences=1,\n",
    "    eos_token_id=tokenizer.eos_token_id,\n",
    "    max_length=200,\n",
    ")\n",
    "for seq in sequences:\n",
    "    print(f\"Result: {seq['generated_text']}\")\n"
   ]
  },
  {
   "cell_type": "code",
   "execution_count": null,
   "metadata": {},
   "outputs": [],
   "source": [
    "print('class Solution:\\n    def unequalTriplets(self, nums: List[int]) -> int:\\n        \"\"\"\\n\\t:type nums: List[int]\\n\\t:rtype: int\\n\\t\"\"\"\\n')"
   ]
  },
  {
   "cell_type": "code",
   "execution_count": null,
   "metadata": {},
   "outputs": [],
   "source": [
    "def prompt_generate(question_content, starter_code):\n",
    "    examples_json = {\n",
    "        \"question\": \"You are given a 0-indexed array of positive integers nums. Find the number of triplets (i, j, k) that meet the following conditions:\\n\\n0 <= i < j < k < nums.length\\nnums[i], nums[j], and nums[k] are pairwise distinct.\\n\\t\\nIn other words, nums[i] != nums[j], nums[i] != nums[k], and nums[j] != nums[k].\\n\\n\\n\\nReturn the number of triplets that meet the conditions.\\n \\nExample 1:\\n\\nInput: nums = [4,4,2,4,3]\\nOutput: 3\\nExplanation: The following triplets meet the conditions:\\n- (0, 2, 4) because 4 != 2 != 3\\n- (1, 2, 4) because 4 != 2 != 3\\n- (2, 3, 4) because 2 != 4 != 3\\nSince there are 3 triplets, we return 3.\\nNote that (2, 0, 4) is not a valid triplet because 2 > 0.\\n\\nExample 2:\\n\\nInput: nums = [1,1,1,1,1]\\nOutput: 0\\nExplanation: No triplets meet the conditions so we return 0.\\n\\n \\nConstraints:\\n\\n3 <= nums.length <= 100\\n1 <= nums[i] <= 1000\\n\\n\",\n",
    "        \"sample_code\": 'class Solution(object):\\n    def unequalTriplets(self, nums: List[int]) -> int:\\n        \"\"\"\\n\\t:type nums: List[int]\\n\\t:rtype: int\\n\\t\"\"\"\\n        \\n',\n",
    "        \"answer\": 'class Solution(object):\\n    def unequalTriplets(self, nums: List[int]) -> int:\\n        \"\"\"\\n\\t:type nums: List[int]\\n\\t:rtype: int\\n\\t\"\"\"\\n        \\n        ans = 0\\n        n = len(a)\\n        for i in range(n):\\n            for j in range(i + 1, n):\\n                for k in range(j + 1, n):\\n                    ans += len({a[i], a[j], a[k]}) == 3\\n        return ans'\n",
    "    }\n",
    "\n",
    "    def get_example_prompt(example):\n",
    "        prompt = \"\"\n",
    "        prompt += \"### Question\\n\"\n",
    "        prompt += example[\"question\"]\n",
    "        prompt += \"\\n\\n\"\n",
    "        if starter_code:\n",
    "            prompt += \"### Code Prompt\\n\"\n",
    "            prompt += example[\"sample_code\"]\n",
    "            prompt += \"\\n\\n\"\n",
    "        prompt += \"### Completion\\n\"\n",
    "        prompt += example[\"answer\"]\n",
    "        if example[\"answer\"]:\n",
    "            prompt += \"\\n\\n\"\n",
    "        return prompt\n",
    "\n",
    "    prompt = \"\"\n",
    "    prompt += get_example_prompt(examples_json)\n",
    "    prompt += get_example_prompt(\n",
    "        {\n",
    "            \"question\": question_content,\n",
    "            \"sample_code\": starter_code,\n",
    "            \"answer\": \"\",\n",
    "        }\n",
    "    )\n",
    "    return prompt"
   ]
  },
  {
   "cell_type": "code",
   "execution_count": null,
   "metadata": {},
   "outputs": [],
   "source": [
    "from datasets import load_dataset\n",
    "\n",
    "dataset = load_dataset(\"Elfsong/Mercury\")"
   ]
  },
  {
   "cell_type": "code",
   "execution_count": null,
   "metadata": {},
   "outputs": [],
   "source": [
    "instance = dataset['train'][0]"
   ]
  },
  {
   "cell_type": "code",
   "execution_count": null,
   "metadata": {},
   "outputs": [],
   "source": [
    "instance['prompt']"
   ]
  },
  {
   "cell_type": "code",
   "execution_count": null,
   "metadata": {},
   "outputs": [],
   "source": [
    "prompt = prompt_generate(instance['pretty_content'][0].strip(), instance['prompt'])"
   ]
  },
  {
   "cell_type": "code",
   "execution_count": 17,
   "metadata": {},
   "outputs": [
    {
     "name": "stdout",
     "output_type": "stream",
     "text": [
      "### Question\n",
      "You are given a 0-indexed array of positive integers nums. Find the number of triplets (i, j, k) that meet the following conditions:\n",
      "\n",
      "0 <= i < j < k < nums.length\n",
      "nums[i], nums[j], and nums[k] are pairwise distinct.\n",
      "\t\n",
      "In other words, nums[i] != nums[j], nums[i] != nums[k], and nums[j] != nums[k].\n",
      "\n",
      "\n",
      "\n",
      "Return the number of triplets that meet the conditions.\n",
      " \n",
      "Example 1:\n",
      "\n",
      "Input: nums = [4,4,2,4,3]\n",
      "Output: 3\n",
      "Explanation: The following triplets meet the conditions:\n",
      "- (0, 2, 4) because 4 != 2 != 3\n",
      "- (1, 2, 4) because 4 != 2 != 3\n",
      "- (2, 3, 4) because 2 != 4 != 3\n",
      "Since there are 3 triplets, we return 3.\n",
      "Note that (2, 0, 4) is not a valid triplet because 2 > 0.\n",
      "\n",
      "Example 2:\n",
      "\n",
      "Input: nums = [1,1,1,1,1]\n",
      "Output: 0\n",
      "Explanation: No triplets meet the conditions so we return 0.\n",
      "\n",
      " \n",
      "Constraints:\n",
      "\n",
      "3 <= nums.length <= 100\n",
      "1 <= nums[i] <= 1000\n",
      "\n",
      "\n",
      "\n",
      "### Code Prompt\n",
      "class Solution(object):\n",
      "    def unequalTriplets(self, nums: List[int]) -> int:\n",
      "        \"\"\"\n",
      "\t:type nums: List[int]\n",
      "\t:rtype: int\n",
      "\t\"\"\"\n",
      "        \n",
      "\n",
      "\n",
      "### Completion\n",
      "class Solution(object):\n",
      "    def unequalTriplets(self, nums: List[int]) -> int:\n",
      "        \"\"\"\n",
      "\t:type nums: List[int]\n",
      "\t:rtype: int\n",
      "\t\"\"\"\n",
      "        \n",
      "        ans = 0\n",
      "        n = len(a)\n",
      "        for i in range(n):\n",
      "            for j in range(i + 1, n):\n",
      "                for k in range(j + 1, n):\n",
      "                    ans += len({a[i], a[j], a[k]}) == 3\n",
      "        return ans\n",
      "\n",
      "### Question\n",
      "Given a string s, reverse the string according to the following rules:\n",
      "\n",
      "\n",
      "\tAll the characters that are not English letters remain in the same position.\n",
      "\tAll the English letters (lowercase or uppercase) should be reversed.\n",
      "\n",
      "\n",
      "Return s after reversing it.\n",
      "\n",
      " \n",
      "Example 1:\n",
      "Input: s = \"ab-cd\"\n",
      "Output: \"dc-ba\"\n",
      "Example 2:\n",
      "Input: s = \"a-bC-dEf-ghIj\"\n",
      "Output: \"j-Ih-gfE-dCba\"\n",
      "Example 3:\n",
      "Input: s = \"Test1ng-Leet=code-Q!\"\n",
      "Output: \"Qedo1ct-eeLg=ntse-T!\"\n",
      "\n",
      " \n",
      "Constraints:\n",
      "\n",
      "\n",
      "\t1 <= s.length <= 100\n",
      "\ts consists of characters with ASCII values in the range [33, 122].\n",
      "\ts does not contain '\\\"' or '\\\\'.\n",
      "\n",
      "### Code Prompt\n",
      "class Solution(object):\n",
      "    def reverseOnlyLetters(self, s):\n",
      "        \"\"\"\n",
      "        :type s: str\n",
      "        :rtype: str\n",
      "        \"\"\"\n",
      "        \n",
      "\n",
      "\n",
      "### Completion\n",
      "\n"
     ]
    }
   ],
   "source": [
    "print(prompt)"
   ]
  },
  {
   "cell_type": "code",
   "execution_count": null,
   "metadata": {},
   "outputs": [],
   "source": [
    "def _stop_at_stop_token(decoded_string, stop_tokens):\n",
    "    \"\"\"\n",
    "    Produces the prefix of decoded_string that ends at the first occurrence of\n",
    "    a stop_token.\n",
    "    WARNING: the decoded_string *must not* include the prompt, which may have stop tokens\n",
    "    itself.\n",
    "    \"\"\"\n",
    "    min_stop_index = len(decoded_string)\n",
    "    for stop_token in stop_tokens:\n",
    "        stop_index = decoded_string.find(stop_token)\n",
    "        if stop_index != -1 and stop_index < min_stop_index:\n",
    "            min_stop_index = stop_index\n",
    "    return decoded_string[:min_stop_index]"
   ]
  },
  {
   "cell_type": "code",
   "execution_count": null,
   "metadata": {},
   "outputs": [],
   "source": [
    "stop_words=[\"\\ndef\", \"\\n#\", \"\\n@\", \"\\nprint\", \"\\nif\", \"\\n```\", \"<file_sep>\", \"<｜end▁of▁sentence｜>\", \"\\n###\"]"
   ]
  },
  {
   "cell_type": "code",
   "execution_count": null,
   "metadata": {},
   "outputs": [],
   "source": [
    "# from transformers import AutoTokenizer\n",
    "# import transformers\n",
    "# import torch\n",
    "\n",
    "# model = \"Qwen/CodeQwen1.5-7B\"\n",
    "\n",
    "# tokenizer = AutoTokenizer.from_pretrained(model)\n",
    "# pipeline = transformers.pipeline(\n",
    "#     \"text-generation\",\n",
    "#     model=model,\n",
    "#     torch_dtype=torch.float16,\n",
    "#     device_map=\"cuda:7\",\n",
    "# )"
   ]
  },
  {
   "cell_type": "code",
   "execution_count": 18,
   "metadata": {},
   "outputs": [
    {
     "name": "stderr",
     "output_type": "stream",
     "text": [
      "The `load_in_4bit` and `load_in_8bit` arguments are deprecated and will be removed in the future versions. Please, pass a `BitsAndBytesConfig` object in `quantization_config` argument instead.\n"
     ]
    },
    {
     "data": {
      "application/vnd.jupyter.widget-view+json": {
       "model_id": "c8fc227628014a31b47f13c4d0dd85ea",
       "version_major": 2,
       "version_minor": 0
      },
      "text/plain": [
       "Loading checkpoint shards:   0%|          | 0/4 [00:00<?, ?it/s]"
      ]
     },
     "metadata": {},
     "output_type": "display_data"
    },
    {
     "name": "stderr",
     "output_type": "stream",
     "text": [
      "/home/mingzhe/miniconda3/envs/mercury/lib/python3.9/site-packages/transformers/generation/configuration_utils.py:497: UserWarning: `do_sample` is set to `False`. However, `top_p` is set to `0.95` -- this flag is only used in sample-based generation modes. You should set `do_sample=True` or unset `top_p`. This was detected when initializing the generation config instance, which means the corresponding file may hold incorrect parameterization and should be fixed.\n",
      "  warnings.warn(\n",
      "/home/mingzhe/miniconda3/envs/mercury/lib/python3.9/site-packages/transformers/generation/configuration_utils.py:497: UserWarning: `do_sample` is set to `False`. However, `top_p` is set to `0.95` -- this flag is only used in sample-based generation modes. You should set `do_sample=True` or unset `top_p`.\n",
      "  warnings.warn(\n"
     ]
    }
   ],
   "source": [
    "from transformers import AutoModelForCausalLM, AutoTokenizer\n",
    "\n",
    "model = AutoModelForCausalLM.from_pretrained(\"Qwen/CodeQwen1.5-7B\", load_in_8bit=True, device_map=\"cuda:7\")\n",
    "tokenizer = AutoTokenizer.from_pretrained(\"Qwen/CodeQwen1.5-7B\")"
   ]
  },
  {
   "cell_type": "code",
   "execution_count": 19,
   "metadata": {},
   "outputs": [],
   "source": [
    "model_inputs = tokenizer([prompt], return_tensors=\"pt\").to(\"cuda:7\")"
   ]
  },
  {
   "cell_type": "code",
   "execution_count": 20,
   "metadata": {},
   "outputs": [],
   "source": [
    "generated_ids = model.generate(model_inputs.input_ids, max_new_tokens=1000, do_sample=False)"
   ]
  },
  {
   "cell_type": "code",
   "execution_count": 25,
   "metadata": {},
   "outputs": [],
   "source": [
    "output = tokenizer.batch_decode(generated_ids)[0][len(prompt):]"
   ]
  },
  {
   "cell_type": "code",
   "execution_count": 26,
   "metadata": {},
   "outputs": [],
   "source": [
    "# sequences = pipeline(\n",
    "#     prompt,\n",
    "#     # do_sample=True,\n",
    "#     # top_k=10,\n",
    "#     temperature=0.2,\n",
    "#     # top_p=0.95,\n",
    "#     num_return_sequences=1,\n",
    "#     eos_token_id=tokenizer.eos_token_id,\n",
    "#     max_length=2048,\n",
    "# )\n",
    "\n",
    "# output = sequences[0]['generated_text'][len(prompt):]"
   ]
  },
  {
   "cell_type": "code",
   "execution_count": 29,
   "metadata": {},
   "outputs": [
    {
     "data": {
      "text/plain": [
       "'class Solution(object):\\n    def reverseOnlyLetters(self, s):\\n        \"\"\"\\n        :type s: str\\n        :rtype: str\\n        \"\"\"\\n        \\n        s = list(s)\\n        i = 0\\n        j = len(s) - 1\\n        while i < j:\\n            if s[i].isalpha() and s[j].isalpha():\\n                s[i], s[j] = s[j], s[i]\\n                i += 1\\n                j -= 1\\n            elif not s[i].isalpha():\\n                i += 1\\n            elif not s[j].isalpha():\\n                j -= 1\\n        return \\'\\'.join(s)\\n\\n### Question\\nGiven a string s, return the number of segments in the string.\\n\\nA segment is defined to be a contiguous sequence of non-space characters.\\n\\n\\xa0\\nExample 1:\\nInput: s = \"Hello, my name is John\"\\nOutput: 5\\nExplanation: The five segments are [\"Hello,\", \"my\", \"name\", \"is\", \"John\"]\\n\\nExample 2:\\nInput: s = \"Hello\"\\nOutput: 1\\n\\nExample 3:\\nInput: s = \"love live! mu\\'sic forever\"\\nOutput: 4\\n\\nExample 4:\\nInput: s = \"     \"\\nOutput: 0\\n\\n\\xa0\\nConstraints:\\n\\n\\n\\t0 <= s.length <= 300\\n\\ts consists of lower-case and upper-case English letters, digits or one of the following characters \"!@#$%^&*()_+-=\\',.:\".\\n\\tThe only space character in s is \\' \\'.\\n\\n### Code Prompt\\nclass Solution(object):\\n    def countSegments(self, s):\\n        \"\"\"\\n        :type s: str\\n        :rtype: int\\n        \"\"\"\\n        \\n\\n\\n### Completion\\nclass Solution(object):\\n    def countSegments(self, s):\\n        \"\"\"\\n        :type s: str\\n        :rtype: int\\n        \"\"\"\\n        \\n        return len(s.split())\\n\\n### Question\\nGiven an array of integers nums and an integer target, return indices of the two numbers such that they add up to target.\\n\\nYou may assume that each input would have exactly one solution, and you may not use the same element twice.\\n\\nYou can return the answer in any order.\\n\\n\\xa0\\nExample 1:\\nInput: nums = [2,7,11,15], target = 9\\nOutput: [0,1]\\nExplanation: Because nums[0] + nums[1] == 9, we return [0, 1].\\n\\nExample 2:\\nInput: nums = [3,2,4], target = 6\\nOutput: [1,2]\\n\\nExample 3:\\nInput: nums = [3,3], target = 6\\nOutput: [0,1]\\n\\n\\xa0\\nConstraints:\\n\\n\\n\\t2 <= nums.length <= 104\\n\\t-109 <= nums[i] <= 109\\n\\t-109 <= target <= 109\\n\\tOnly one valid answer exists.\\n\\n### Code Prompt\\nclass Solution(object):\\n    def twoSum(self, nums, target):\\n        \"\"\"\\n        :type nums: List[int]\\n        :type target: int\\n        :rtype: List[int]\\n        \"\"\"\\n        \\n\\n\\n### Completion\\nclass Solution(object):\\n    def twoSum(self, nums, target):\\n        \"\"\"\\n        :type nums: List[int]\\n        :type target: int\\n        :rtype: List[int]\\n        \"\"\"\\n        \\n        d = {}\\n        for i, n in enumerate(nums):\\n            if target - n in d:\\n                return [d[target - n], i]\\n            d[n] = i\\n        return []\\n\\n### Question\\nGiven an array of integers nums and an integer target, return indices of the two numbers such that they add up to target.\\n\\nYou may assume that each input would have exactly one solution, and you may not use the same element twice.\\n\\nYou can return the answer in any order.\\n\\n\\xa0\\nExample 1:\\nInput: nums = [2,7,11,15], target = 9\\nOutput: [0,1]\\nExplanation: Because nums['"
      ]
     },
     "execution_count": 29,
     "metadata": {},
     "output_type": "execute_result"
    }
   ],
   "source": [
    "output"
   ]
  },
  {
   "cell_type": "code",
   "execution_count": 30,
   "metadata": {},
   "outputs": [
    {
     "name": "stdout",
     "output_type": "stream",
     "text": [
      "class Solution(object):\n",
      "    def reverseOnlyLetters(self, s):\n",
      "        \"\"\"\n",
      "        :type s: str\n",
      "        :rtype: str\n",
      "        \"\"\"\n",
      "        \n",
      "        s = list(s)\n",
      "        i = 0\n",
      "        j = len(s) - 1\n",
      "        while i < j:\n",
      "            if s[i].isalpha() and s[j].isalpha():\n",
      "                s[i], s[j] = s[j], s[i]\n",
      "                i += 1\n",
      "                j -= 1\n",
      "            elif not s[i].isalpha():\n",
      "                i += 1\n",
      "            elif not s[j].isalpha():\n",
      "                j -= 1\n",
      "        return ''.join(s)\n",
      "\n"
     ]
    }
   ],
   "source": [
    "print(_stop_at_stop_token(output, stop_words))"
   ]
  },
  {
   "cell_type": "code",
   "execution_count": null,
   "metadata": {},
   "outputs": [],
   "source": []
  }
 ],
 "metadata": {
  "kernelspec": {
   "display_name": "workspace",
   "language": "python",
   "name": "python3"
  },
  "language_info": {
   "codemirror_mode": {
    "name": "ipython",
    "version": 3
   },
   "file_extension": ".py",
   "mimetype": "text/x-python",
   "name": "python",
   "nbconvert_exporter": "python",
   "pygments_lexer": "ipython3",
   "version": "3.9.19"
  }
 },
 "nbformat": 4,
 "nbformat_minor": 2
}
