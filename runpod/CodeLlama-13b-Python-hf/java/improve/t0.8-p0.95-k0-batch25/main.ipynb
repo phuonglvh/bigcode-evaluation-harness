{
 "cells": [
  {
   "cell_type": "code",
   "execution_count": 1,
   "metadata": {},
   "outputs": [
    {
     "name": "stdout",
     "output_type": "stream",
     "text": [
      "/Users/phuonglvh/projects/2170558-thesis-automatic-code-generation-using-machine-learning/bigcode-evaluation-harness/runpod/codellama-13b-python/java/improve/t0.8-p0.95-k0-batch25\n",
      "0-5-stdout.txt\n",
      "0-50-eval.txt\n",
      "12-2-stdout.txt\n",
      "14-1-stdout.txt\n",
      "15-2-stdout.txt\n",
      "17-1-sdout.txt\n",
      "21-4-stdout.txt\n",
      "25-15-stdout.txt\n",
      "30-10-hw-4a4000.txt\n",
      "33-7-stdout.txt\n",
      "40-10-stdout.txt\n",
      "5-10-hw-info.txt\n",
      "5-5-stdout.txt\n",
      "50-108-gen.txt\n",
      "CodeLlama-13b-Python-hf-temp0.8-p0.95-k0-bf16-n200-batch25-maxlen1024-java-generations-0-1_multiple-java.json\n",
      "CodeLlama-13b-Python-hf-temp0.8-p0.95-k0-bf16-n200-batch25-maxlen1024-java-generations-0-50_multiple-java-eval-0-50-evaluation_results.json\n",
      "CodeLlama-13b-Python-hf-temp0.8-p0.95-k0-bf16-n200-batch25-maxlen1024-java-generations-0-50_multiple-java.json\n",
      "CodeLlama-13b-Python-hf-temp0.8-p0.95-k0-bf16-n200-batch25-maxlen1024-java-generations-1-4_multiple-java.json\n",
      "CodeLlama-13b-Python-hf-temp0.8-p0.95-k0-bf16-n200-batch25-maxlen1024-java-generations-10-4_multiple-java.json\n",
      "CodeLlama-13b-Python-hf-temp0.8-p0.95-k0-bf16-n200-batch25-maxlen1024-java-generations-14-1_multiple-java.json\n",
      "CodeLlama-13b-Python-hf-temp0.8-p0.95-k0-bf16-n200-batch25-maxlen1024-java-generations-15-2_multiple-java.json\n",
      "CodeLlama-13b-Python-hf-temp0.8-p0.95-k0-bf16-n200-batch25-maxlen1024-java-generations-17-1_multiple-java.json\n",
      "CodeLlama-13b-Python-hf-temp0.8-p0.95-k0-bf16-n200-batch25-maxlen1024-java-generations-18-1_multiple-java.json\n",
      "CodeLlama-13b-Python-hf-temp0.8-p0.95-k0-bf16-n200-batch25-maxlen1024-java-generations-19-2_multiple-java.json\n",
      "CodeLlama-13b-Python-hf-temp0.8-p0.95-k0-bf16-n200-batch25-maxlen1024-java-generations-21-4_multiple-java.json\n",
      "CodeLlama-13b-Python-hf-temp0.8-p0.95-k0-bf16-n200-batch25-maxlen1024-java-generations-25-8_multiple-java.json\n",
      "CodeLlama-13b-Python-hf-temp0.8-p0.95-k0-bf16-n200-batch25-maxlen1024-java-generations-33-7_multiple-java.json\n",
      "CodeLlama-13b-Python-hf-temp0.8-p0.95-k0-bf16-n200-batch25-maxlen1024-java-generations-40-10_multiple-java.json\n",
      "CodeLlama-13b-Python-hf-temp0.8-p0.95-k0-bf16-n200-batch25-maxlen1024-java-generations-5-5_multiple-java.json\n",
      "CodeLlama-13b-Python-hf-temp0.8-p0.95-k0-bf16-n200-batch25-maxlen1024-java-generations-50-108_multiple-java.json\n",
      "error.txt\n",
      "gen-eval-java.sh\n",
      "main.ipynb\n"
     ]
    }
   ],
   "source": [
    "!pwd\n",
    "!ls"
   ]
  },
  {
   "cell_type": "code",
   "execution_count": 2,
   "metadata": {},
   "outputs": [
    {
     "name": "stdout",
     "output_type": "stream",
     "text": [
      "./CodeLlama-13b-Python-hf-temp0.8-p0.95-k0-bf16-n200-batch25-maxlen1024-java-generations-0-1_multiple-java.json\n",
      "./CodeLlama-13b-Python-hf-temp0.8-p0.95-k0-bf16-n200-batch25-maxlen1024-java-generations-1-4_multiple-java.json\n",
      "./CodeLlama-13b-Python-hf-temp0.8-p0.95-k0-bf16-n200-batch25-maxlen1024-java-generations-5-5_multiple-java.json\n",
      "./CodeLlama-13b-Python-hf-temp0.8-p0.95-k0-bf16-n200-batch25-maxlen1024-java-generations-10-4_multiple-java.json\n",
      "./CodeLlama-13b-Python-hf-temp0.8-p0.95-k0-bf16-n200-batch25-maxlen1024-java-generations-14-1_multiple-java.json\n",
      "./CodeLlama-13b-Python-hf-temp0.8-p0.95-k0-bf16-n200-batch25-maxlen1024-java-generations-15-2_multiple-java.json\n",
      "./CodeLlama-13b-Python-hf-temp0.8-p0.95-k0-bf16-n200-batch25-maxlen1024-java-generations-17-1_multiple-java.json\n",
      "./CodeLlama-13b-Python-hf-temp0.8-p0.95-k0-bf16-n200-batch25-maxlen1024-java-generations-18-1_multiple-java.json\n",
      "./CodeLlama-13b-Python-hf-temp0.8-p0.95-k0-bf16-n200-batch25-maxlen1024-java-generations-19-2_multiple-java.json\n",
      "./CodeLlama-13b-Python-hf-temp0.8-p0.95-k0-bf16-n200-batch25-maxlen1024-java-generations-21-4_multiple-java.json\n",
      "./CodeLlama-13b-Python-hf-temp0.8-p0.95-k0-bf16-n200-batch25-maxlen1024-java-generations-25-8_multiple-java.json\n",
      "./CodeLlama-13b-Python-hf-temp0.8-p0.95-k0-bf16-n200-batch25-maxlen1024-java-generations-33-7_multiple-java.json\n",
      "./CodeLlama-13b-Python-hf-temp0.8-p0.95-k0-bf16-n200-batch25-maxlen1024-java-generations-40-10_multiple-java.json\n",
      "./CodeLlama-13b-Python-hf-temp0.8-p0.95-k0-bf16-n200-batch25-maxlen1024-java-generations-50-108_multiple-java.json\n"
     ]
    }
   ],
   "source": [
    "t = 0.8\n",
    "p = 0.95\n",
    "k = 0\n",
    "b=25\n",
    "\n",
    "parts = [(0, 1), (1, 4), (5, 5), (10, 4), (14,1), (15, 2), (17, 1),\n",
    "         (18, 1), (19, 2), (21, 4), (25, 8), (33, 7), (40, 10), (50, 108)]\n",
    "part_paths = [\n",
    "    f'./CodeLlama-13b-Python-hf-temp{t}-p{p}-k{k}-bf16-n200-batch{b}-maxlen1024-java-generations-{limit_start}-{limit}_multiple-java.json' for limit_start, limit in parts]\n",
    "\n",
    "print('\\n'.join(part_paths))"
   ]
  },
  {
   "cell_type": "code",
   "execution_count": 3,
   "metadata": {},
   "outputs": [
    {
     "name": "stdout",
     "output_type": "stream",
     "text": [
      "158\n"
     ]
    }
   ],
   "source": [
    "import json\n",
    "\n",
    "part_gens = [json.load(open(part_path, 'r')) for part_path in part_paths]\n",
    "\n",
    "all_gens = []\n",
    "for part_gen in part_gens:\n",
    "    all_gens.extend(part_gen)\n",
    "    \n",
    "print(len(all_gens))"
   ]
  },
  {
   "cell_type": "code",
   "execution_count": 4,
   "metadata": {},
   "outputs": [
    {
     "name": "stdout",
     "output_type": "stream",
     "text": [
      "saved 158 at \"./CodeLlama-13b-Python-hf-temp0.8-p0.95-k0-bf16-n200-batch25-maxlen1024-java-generations-0-158_multiple-java.json\"\n"
     ]
    }
   ],
   "source": [
    "start = 0\n",
    "(limit_start, limit) = parts[-1]\n",
    "stop = limit_start + limit\n",
    "\n",
    "merged_path = f'./CodeLlama-13b-Python-hf-temp{t}-p{p}-k{k}-bf16-n200-batch{b}-maxlen1024-java-generations-{start}-{stop}_multiple-java.json'\n",
    "json.dump(all_gens, open(merged_path, 'w'))\n",
    "print(f'saved {len(all_gens)} at \"{merged_path}\"')"
   ]
  },
  {
   "cell_type": "code",
   "execution_count": 5,
   "metadata": {},
   "outputs": [
    {
     "name": "stdout",
     "output_type": "stream",
     "text": [
      "audit generations length done\n"
     ]
    }
   ],
   "source": [
    "all_gens = json.load(open(merged_path, 'r'))\n",
    "for task_id, gens in enumerate(all_gens):\n",
    "    if len(gens) != 200:\n",
    "        print(f'task_id {task_id} has length {len(gens)} instead of 200')\n",
    "\n",
    "print('audit generations length done')"
   ]
  }
 ],
 "metadata": {
  "kernelspec": {
   "display_name": "bigcode-evaluation-harness",
   "language": "python",
   "name": "python3"
  },
  "language_info": {
   "codemirror_mode": {
    "name": "ipython",
    "version": 3
   },
   "file_extension": ".py",
   "mimetype": "text/x-python",
   "name": "python",
   "nbconvert_exporter": "python",
   "pygments_lexer": "ipython3",
   "version": "3.12.3"
  }
 },
 "nbformat": 4,
 "nbformat_minor": 2
}
