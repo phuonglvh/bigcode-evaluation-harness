{
 "cells": [
  {
   "cell_type": "code",
   "execution_count": null,
   "metadata": {},
   "outputs": [],
   "source": [
    "!pwd\n",
    "!ls"
   ]
  },
  {
   "cell_type": "code",
   "execution_count": null,
   "metadata": {},
   "outputs": [],
   "source": [
    "t = 0.1\n",
    "p = 0.95\n",
    "k = 0\n",
    "b = 1\n",
    "n_samples=1\n",
    "\n",
    "parts = []\n",
    "part_paths = [\n",
    "    f'./CodeLlama-13b-Python-hf-temp{t}-p{p}-k{k}-bf16-n{n_samples}-batch{b}-maxlen1024-java-generations-{limit_start}-{limit}_multiple-java.json' for limit_start, limit in parts]\n",
    "\n",
    "print('\\n'.join(part_paths))"
   ]
  },
  {
   "cell_type": "code",
   "execution_count": null,
   "metadata": {},
   "outputs": [],
   "source": [
    "import json\n",
    "\n",
    "part_gens = [json.load(open(part_path, 'r')) for part_path in part_paths]\n",
    "\n",
    "all_gens = []\n",
    "for part_i, part_gen in enumerate(part_gens):\n",
    "    _, part_size = parts[part_i]\n",
    "    if len(part_gen) != part_size:\n",
    "        print(f'expected {part_size} but got {len(part_gen)}')\n",
    "    all_gens.extend(part_gen)\n",
    "    \n",
    "print(len(all_gens))"
   ]
  },
  {
   "cell_type": "code",
   "execution_count": null,
   "metadata": {},
   "outputs": [],
   "source": [
    "start = 0\n",
    "(limit_start, limit) = parts[-1]\n",
    "stop = limit_start + limit\n",
    "\n",
    "merged_path = f'./CodeLlama-13b-Python-hf-temp{t}-p{p}-k{k}-bf16-n{n_samples}-batch{b}-maxlen1024-java-generations-{start}-{stop}_multiple-java.json'\n",
    "json.dump(all_gens, open(merged_path, 'w'))\n",
    "print(f'saved {len(all_gens)} at \"{merged_path}\"')"
   ]
  },
  {
   "cell_type": "code",
   "execution_count": null,
   "metadata": {},
   "outputs": [],
   "source": [
    "all_gens = json.load(open(merged_path, 'r'))\n",
    "for task_id, gens in enumerate(all_gens):\n",
    "    if len(gens) != 200:\n",
    "        print(f'task_id {task_id} has length {len(gens)} instead of 200')\n",
    "\n",
    "print('audit generations length done')"
   ]
  }
 ],
 "metadata": {
  "kernelspec": {
   "display_name": "bigcode-evaluation-harness",
   "language": "python",
   "name": "python3"
  },
  "language_info": {
   "codemirror_mode": {
    "name": "ipython",
    "version": 3
   },
   "file_extension": ".py",
   "mimetype": "text/x-python",
   "name": "python",
   "nbconvert_exporter": "python",
   "pygments_lexer": "ipython3",
   "version": "3.12.3"
  }
 },
 "nbformat": 4,
 "nbformat_minor": 2
}
