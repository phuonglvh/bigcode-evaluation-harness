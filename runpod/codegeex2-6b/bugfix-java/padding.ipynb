{
 "cells": [
  {
   "cell_type": "code",
   "execution_count": null,
   "metadata": {},
   "outputs": [],
   "source": [
    "source_n_samples=200\n",
    "source_path = ''\n",
    "saved_path = ''\n",
    "n_task_to_pad = 4"
   ]
  },
  {
   "cell_type": "code",
   "execution_count": null,
   "metadata": {},
   "outputs": [],
   "source": [
    "import json\n",
    "\n",
    "source_gens = json.load(open(source_path, 'r'))\n",
    "print(len(source_gens))\n",
    "\n",
    "padded_gens = [[\"\"]*source_n_samples=200]*n_task_to_pad\n",
    "print(len(padded_gens))\n",
    "padded_gens.extend(source_gens)\n",
    "\n",
    "json.dump(padded_gens, open(saved_path, 'w'))\n",
    "print(f'saved {len(padded_gens)} tasks in {saved_path}')"
   ]
  },
  {
   "cell_type": "code",
   "execution_count": null,
   "metadata": {},
   "outputs": [],
   "source": []
  }
 ],
 "metadata": {
  "language_info": {
   "name": "python"
  }
 },
 "nbformat": 4,
 "nbformat_minor": 2
}
