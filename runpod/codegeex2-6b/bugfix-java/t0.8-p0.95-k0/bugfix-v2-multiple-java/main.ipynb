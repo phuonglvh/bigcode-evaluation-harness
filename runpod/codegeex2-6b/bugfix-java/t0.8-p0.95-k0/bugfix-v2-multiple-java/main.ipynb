{
 "cells": [
  {
   "cell_type": "code",
   "execution_count": null,
   "metadata": {},
   "outputs": [],
   "source": [
    "!pwd\n",
    "!ls"
   ]
  },
  {
   "cell_type": "code",
   "execution_count": null,
   "metadata": {},
   "outputs": [],
   "source": []
  },
  {
   "cell_type": "code",
   "execution_count": 7,
   "metadata": {},
   "outputs": [
    {
     "name": "stdout",
     "output_type": "stream",
     "text": [
      "./codegeex2-6b-temp0.8-p0.95-k0-bf16-n1-batch1-maxlen1280-java-generations-0-5_bugfix-v2-multiple-java.json\n",
      "./codegeex2-6b-temp0.8-p0.95-k0-bf16-n1-batch1-maxlen1280-java-generations-5-5_bugfix-v2-multiple-java.json\n",
      "./codegeex2-6b-temp0.8-p0.95-k0-bf16-n1-batch1-maxlen1280-java-generations-10-5_bugfix-v2-multiple-java.json\n",
      "./codegeex2-6b-temp0.8-p0.95-k0-bf16-n1-batch1-maxlen1280-java-generations-15-5_bugfix-v2-multiple-java.json\n",
      "./codegeex2-6b-temp0.8-p0.95-k0-bf16-n1-batch1-maxlen1280-java-generations-20-5_bugfix-v2-multiple-java.json\n"
     ]
    }
   ],
   "source": [
    "max_length = 1280\n",
    "t = 0.8\n",
    "p = 0.95\n",
    "k = 0\n",
    "\n",
    "part_formatter = f'./codegeex2-6b-temp{t}-p{p}-k{k}-bf16-n1-batch1-maxlen{max_length}-java-generations-' + \\\n",
    "    '{}-{}_bugfix-v2-multiple-java.json'\n",
    "\n",
    "parts = [(0, 5), (5, 5), (10, 5), (15, 5), (20, 5)]\n",
    "part_paths = [part_formatter.format(limit_start, limit) for limit_start, limit in parts]\n",
    "\n",
    "print('\\n'.join(part_paths))"
   ]
  },
  {
   "cell_type": "code",
   "execution_count": 8,
   "metadata": {},
   "outputs": [
    {
     "name": "stdout",
     "output_type": "stream",
     "text": [
      "25\n"
     ]
    }
   ],
   "source": [
    "import json\n",
    "\n",
    "part_gens = [json.load(open(part_path, 'r')) for part_path in part_paths]\n",
    "\n",
    "all_gens = []\n",
    "for part_gen in part_gens:\n",
    "    all_gens.extend(part_gen)\n",
    "    \n",
    "print(len(all_gens))"
   ]
  },
  {
   "cell_type": "code",
   "execution_count": 9,
   "metadata": {},
   "outputs": [
    {
     "name": "stdout",
     "output_type": "stream",
     "text": [
      "saved 25 at \"./codegeex2-6b-temp0.8-p0.95-k0-bf16-n1-batch1-maxlen1280-java-generations-0-25_bugfix-v2-multiple-java.json\"\n"
     ]
    }
   ],
   "source": [
    "limit_start = parts[0][0]\n",
    "start, limit = parts[-1]\n",
    "limit = start + limit\n",
    "\n",
    "merged_path = part_formatter.format(limit_start, limit)\n",
    "\n",
    "json.dump(all_gens, open(merged_path, 'w'))\n",
    "print(f'saved {len(all_gens)} at \"{merged_path}\"')"
   ]
  },
  {
   "cell_type": "code",
   "execution_count": null,
   "metadata": {},
   "outputs": [],
   "source": []
  }
 ],
 "metadata": {
  "kernelspec": {
   "display_name": "bigcode-evaluation-harness",
   "language": "python",
   "name": "python3"
  },
  "language_info": {
   "codemirror_mode": {
    "name": "ipython",
    "version": 3
   },
   "file_extension": ".py",
   "mimetype": "text/x-python",
   "name": "python",
   "nbconvert_exporter": "python",
   "pygments_lexer": "ipython3",
   "version": "3.11.2"
  }
 },
 "nbformat": 4,
 "nbformat_minor": 2
}
