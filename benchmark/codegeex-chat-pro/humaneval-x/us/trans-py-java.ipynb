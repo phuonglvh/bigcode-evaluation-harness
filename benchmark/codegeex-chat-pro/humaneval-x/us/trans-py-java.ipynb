{
 "cells": [
  {
   "cell_type": "code",
   "execution_count": 2,
   "metadata": {},
   "outputs": [],
   "source": [
    "import os\n",
    "from dotenv import dotenv_values\n",
    "\n",
    "env_path = os.path.join(os.getcwd(), '../../../..', '.env')\n",
    "env_dict = dotenv_values(env_path)\n",
    "\n",
    "os.environ['CODEGEEX_CHAT_PRO_TOKEN'] = env_dict['CODEGEEX_CHAT_PRO_TOKEN']\n",
    "\n",
    "cwd = os.getcwd()\n"
   ]
  },
  {
   "cell_type": "code",
   "execution_count": 3,
   "metadata": {},
   "outputs": [
    {
     "name": "stderr",
     "output_type": "stream",
     "text": [
      "/Users/phuonglvh/.virtualenvs/bigcode-evaluation-harness/lib/python3.12/site-packages/tqdm/auto.py:21: TqdmWarning: IProgress not found. Please update jupyter and ipywidgets. See https://ipywidgets.readthedocs.io/en/stable/user_install.html\n",
      "  from .autonotebook import tqdm as notebook_tqdm\n"
     ]
    }
   ],
   "source": [
    "import json\n",
    "import sys\n",
    "import os\n",
    "\n",
    "sys.path.append(f'{cwd}/../../../..')\n",
    "\n",
    "from bigcode_eval.tasks.code_to_code.codegeex_chat_pro import codegeex_chat_pro_translate_and_postprocess\n",
    "\n",
    "def translate(prompt_version, parallel, max_workers):\n",
    "    translated_prompts_path = f'{cwd}/../../../datasets/humaneval-x/us/humaneval_python_java_prompts_{prompt_version}.json'\n",
    "\n",
    "    limit_start = 0\n",
    "    limit = len(json.load(open(translated_prompts_path, \"r\")))\n",
    "    model = 'codegeex-chat-pro'\n",
    "\n",
    "    save_translated_codes_path = f'{cwd}/{model}-humaneval_python_java_prompts_{prompt_version}-translations-{limit_start}-{limit}.json'\n",
    "\n",
    "    codegeex_chat_pro_translate_and_postprocess(\n",
    "        translated_prompts_path, save_translated_codes_path, limit_start, limit, parallel=parallel, max_workers=max_workers)"
   ]
  },
  {
   "cell_type": "code",
   "execution_count": 5,
   "metadata": {},
   "outputs": [
    {
     "name": "stdout",
     "output_type": "stream",
     "text": [
      "Using parallel processing with #5 workers\n",
      "Translated 164 prompts in parallel\n",
      "saved #164 translations to /Users/phuonglvh/projects/2170558-thesis-automatic-code-generation-using-machine-learning/bigcode-evaluation-harness/benchmark/codegeex-chat-pro/humaneval-x/us/codegeex-chat-pro-humaneval_python_java_prompts_v1002-translations-0-164.json\n"
     ]
    }
   ],
   "source": [
    "prompt_version = 'v1002'\n",
    "translate(prompt_version, parallel=True, max_workers=5)"
   ]
  },
  {
   "cell_type": "code",
   "execution_count": 11,
   "metadata": {},
   "outputs": [
    {
     "name": "stdout",
     "output_type": "stream",
     "text": [
      "Using parallel processing with #5 workers\n",
      "Translated 164 prompts in parallel\n",
      "saved #164 translations to /Users/phuonglvh/projects/2170558-thesis-automatic-code-generation-using-machine-learning/bigcode-evaluation-harness/benchmark/codegeex-chat-pro/humaneval-x/us/codegeex-chat-pro-humaneval_python_java_prompts_v1003-translations-0-164.json\n"
     ]
    }
   ],
   "source": [
    "prompt_version = 'v1003'\n",
    "translate(prompt_version, parallel=True, max_workers=5)"
   ]
  },
  {
   "cell_type": "code",
   "execution_count": 10,
   "metadata": {},
   "outputs": [
    {
     "name": "stdout",
     "output_type": "stream",
     "text": [
      "Using parallel processing with #5 workers\n",
      "Translated 164 prompts in parallel\n",
      "saved #164 translations to /Users/phuonglvh/projects/2170558-thesis-automatic-code-generation-using-machine-learning/bigcode-evaluation-harness/benchmark/codegeex-chat-pro/humaneval-x/us/codegeex-chat-pro-humaneval_python_java_prompts_v1004-translations-0-164.json\n"
     ]
    }
   ],
   "source": [
    "prompt_version = 'v1004'\n",
    "translate(prompt_version, parallel=True, max_workers=5)"
   ]
  },
  {
   "cell_type": "code",
   "execution_count": 8,
   "metadata": {},
   "outputs": [
    {
     "name": "stdout",
     "output_type": "stream",
     "text": [
      "Using parallel processing with #10 workers\n",
      "Translated 164 prompts in parallel\n",
      "saved #164 translations to /Users/phuonglvh/projects/2170558-thesis-automatic-code-generation-using-machine-learning/bigcode-evaluation-harness/benchmark/codegeex-chat-pro/humaneval-x/us/codegeex-chat-pro-humaneval_python_java_prompts_v1005-translations-0-164.json\n"
     ]
    }
   ],
   "source": [
    "prompt_version = 'v1005'\n",
    "translate(prompt_version, parallel=True, max_workers=10)"
   ]
  },
  {
   "cell_type": "code",
   "execution_count": 22,
   "metadata": {},
   "outputs": [
    {
     "name": "stdout",
     "output_type": "stream",
     "text": [
      "Using parallel processing with #3 workers\n",
      "Translated 164 prompts in parallel\n",
      "saved #164 translations to /Users/phuonglvh/projects/2170558-thesis-automatic-code-generation-using-machine-learning/bigcode-evaluation-harness/benchmark/codegeex-chat-pro/humaneval-x/us/codegeex-chat-pro-humaneval_python_java_prompts_v1006-translations-0-164.json\n"
     ]
    }
   ],
   "source": [
    "prompt_version = 'v1006'\n",
    "translate(prompt_version, parallel=True, max_workers=3)"
   ]
  },
  {
   "cell_type": "code",
   "execution_count": 12,
   "metadata": {},
   "outputs": [
    {
     "name": "stdout",
     "output_type": "stream",
     "text": [
      "Using parallel processing with #5 workers\n",
      "Translated 164 prompts in parallel\n",
      "saved #164 translations to /Users/phuonglvh/projects/2170558-thesis-automatic-code-generation-using-machine-learning/bigcode-evaluation-harness/benchmark/codegeex-chat-pro/humaneval-x/us/codegeex-chat-pro-humaneval_python_java_prompts_v1008-translations-0-164.json\n"
     ]
    }
   ],
   "source": [
    "prompt_version = 'v1008'\n",
    "translate(prompt_version, parallel=True, max_workers=5)"
   ]
  },
  {
   "cell_type": "code",
   "execution_count": 15,
   "metadata": {},
   "outputs": [
    {
     "name": "stderr",
     "output_type": "stream",
     "text": [
      "Translating Prompts: 100%|██████████| 164/164 [08:43<00:00,  3.19s/prompt]"
     ]
    },
    {
     "name": "stdout",
     "output_type": "stream",
     "text": [
      "Translated 164 prompts in serial\n",
      "saved #164 translations to /Users/phuonglvh/projects/2170558-thesis-automatic-code-generation-using-machine-learning/bigcode-evaluation-harness/benchmark/codegeex-chat-pro/humaneval-x/us/codegeex-chat-pro-humaneval_python_java_prompts_v1009-translations-0-164.json\n"
     ]
    },
    {
     "name": "stderr",
     "output_type": "stream",
     "text": [
      "\n"
     ]
    }
   ],
   "source": [
    "prompt_version = 'v1009'\n",
    "translate(prompt_version, parallel=False, max_workers=5)"
   ]
  },
  {
   "cell_type": "code",
   "execution_count": 9,
   "metadata": {},
   "outputs": [
    {
     "name": "stdout",
     "output_type": "stream",
     "text": [
      "Using parallel processing with #5 workers\n",
      "Translated 164 prompts in parallel\n",
      "saved #164 translations to /Users/phuonglvh/projects/2170558-thesis-automatic-code-generation-using-machine-learning/bigcode-evaluation-harness/benchmark/codegeex-chat-pro/humaneval-x/us/codegeex-chat-pro-humaneval_python_java_prompts_v2002-translations-0-164.json\n"
     ]
    }
   ],
   "source": [
    "prompt_version = 'v2002'\n",
    "translate(prompt_version, parallel=True, max_workers=5)"
   ]
  },
  {
   "cell_type": "code",
   "execution_count": 24,
   "metadata": {},
   "outputs": [
    {
     "name": "stdout",
     "output_type": "stream",
     "text": [
      "Using parallel processing with #3 workers\n",
      "Translated 164 prompts in parallel\n",
      "saved #164 translations to /Users/phuonglvh/projects/2170558-thesis-automatic-code-generation-using-machine-learning/bigcode-evaluation-harness/benchmark/codegeex-chat-pro/humaneval-x/us/codegeex-chat-pro-humaneval_python_java_prompts_v2003-translations-0-164.json\n"
     ]
    }
   ],
   "source": [
    "prompt_version = 'v2003'\n",
    "translate(prompt_version, parallel=True, max_workers=3)"
   ]
  },
  {
   "cell_type": "code",
   "execution_count": 29,
   "metadata": {},
   "outputs": [
    {
     "name": "stdout",
     "output_type": "stream",
     "text": [
      "Using parallel processing with #3 workers\n",
      "Translated 164 prompts in parallel\n",
      "saved #164 translations to /Users/phuonglvh/projects/2170558-thesis-automatic-code-generation-using-machine-learning/bigcode-evaluation-harness/benchmark/codegeex-chat-pro/humaneval-x/us/codegeex-chat-pro-humaneval_python_java_prompts_v2004-translations-0-164.json\n"
     ]
    }
   ],
   "source": [
    "prompt_version = 'v2004'\n",
    "translate(prompt_version, parallel=True, max_workers=3)"
   ]
  },
  {
   "cell_type": "code",
   "execution_count": 31,
   "metadata": {},
   "outputs": [
    {
     "name": "stdout",
     "output_type": "stream",
     "text": [
      "Using parallel processing with #2 workers\n",
      "Translated 164 prompts in parallel\n",
      "saved #164 translations to /Users/phuonglvh/projects/2170558-thesis-automatic-code-generation-using-machine-learning/bigcode-evaluation-harness/benchmark/codegeex-chat-pro/humaneval-x/us/codegeex-chat-pro-humaneval_python_java_prompts_v2005-translations-0-164.json\n"
     ]
    }
   ],
   "source": [
    "prompt_version = 'v2005'\n",
    "translate(prompt_version, parallel=True, max_workers=2)"
   ]
  },
  {
   "cell_type": "code",
   "execution_count": 5,
   "metadata": {},
   "outputs": [
    {
     "name": "stderr",
     "output_type": "stream",
     "text": [
      "Translating Prompts: 100%|██████████| 164/164 [10:08<00:00,  3.71s/prompt]"
     ]
    },
    {
     "name": "stdout",
     "output_type": "stream",
     "text": [
      "Translated 164 prompts in serial\n",
      "saved #164 translations to /Users/phuonglvh/projects/2170558-thesis-automatic-code-generation-using-machine-learning/bigcode-evaluation-harness/benchmark/codegeex-chat-pro/humaneval-x/us/codegeex-chat-pro-humaneval_python_java_prompts_v2006-translations-0-164.json\n"
     ]
    },
    {
     "name": "stderr",
     "output_type": "stream",
     "text": [
      "\n"
     ]
    }
   ],
   "source": [
    "prompt_version = 'v2006'\n",
    "translate(prompt_version, parallel=False, max_workers=2)"
   ]
  },
  {
   "cell_type": "code",
   "execution_count": 8,
   "metadata": {},
   "outputs": [
    {
     "name": "stdout",
     "output_type": "stream",
     "text": [
      "Using parallel processing with #2 workers\n",
      "Translated 164 prompts in parallel\n",
      "saved #164 translations to /Users/phuonglvh/projects/2170558-thesis-automatic-code-generation-using-machine-learning/bigcode-evaluation-harness/benchmark/codegeex-chat-pro/humaneval-x/us/codegeex-chat-pro-humaneval_python_java_prompts_v3001-translations-0-164.json\n"
     ]
    }
   ],
   "source": [
    "prompt_version = 'v3001'\n",
    "translate(prompt_version, parallel=True, max_workers=2)"
   ]
  }
 ],
 "metadata": {
  "kernelspec": {
   "display_name": "bigcode-evaluation-harness",
   "language": "python",
   "name": "python3"
  },
  "language_info": {
   "codemirror_mode": {
    "name": "ipython",
    "version": 3
   },
   "file_extension": ".py",
   "mimetype": "text/x-python",
   "name": "python",
   "nbconvert_exporter": "python",
   "pygments_lexer": "ipython3",
   "version": "3.12.3"
  }
 },
 "nbformat": 4,
 "nbformat_minor": 2
}
