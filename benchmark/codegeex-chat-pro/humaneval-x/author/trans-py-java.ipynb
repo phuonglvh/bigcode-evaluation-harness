{
 "cells": [
  {
   "cell_type": "code",
   "execution_count": 6,
   "metadata": {},
   "outputs": [],
   "source": [
    "import os\n",
    "from dotenv import dotenv_values\n",
    "\n",
    "env_path = os.path.join(os.getcwd(), '../../../..', '.env')\n",
    "env_dict = dotenv_values(env_path)\n",
    "\n",
    "os.environ['CODEGEEX_CHAT_PRO_TOKEN'] = env_dict['CODEGEEX_CHAT_PRO_TOKEN']\n",
    "\n",
    "cwd = os.getcwd()\n"
   ]
  },
  {
   "cell_type": "code",
   "execution_count": 12,
   "metadata": {},
   "outputs": [],
   "source": [
    "import json\n",
    "import sys\n",
    "import os\n",
    "\n",
    "sys.path.append(f'{cwd}/../../../..')\n",
    "\n",
    "from bigcode_eval.tasks.code_to_code.codegeex_chat_pro import codegeex_chat_pro_translate_and_postprocess\n",
    "\n",
    "def translate(prompt_version, parallel, max_workers):\n",
    "    translated_prompts_path = f'{cwd}/../../../datasets/humaneval-x/author/humaneval_python_java_prompts_{prompt_version}.json'\n",
    "\n",
    "    limit_start = 0\n",
    "    limit = len(json.load(open(translated_prompts_path, \"r\")))\n",
    "    model = 'codegeex-chat-pro'\n",
    "\n",
    "    save_translated_codes_path = f'{cwd}/{model}-humaneval_python_java_prompts_{prompt_version}-translations-{limit_start}-{limit}.json'\n",
    "\n",
    "    codegeex_chat_pro_translate_and_postprocess(\n",
    "        translated_prompts_path, save_translated_codes_path, limit_start, limit, parallel=parallel, max_workers=max_workers)"
   ]
  },
  {
   "cell_type": "code",
   "execution_count": 14,
   "metadata": {},
   "outputs": [
    {
     "name": "stdout",
     "output_type": "stream",
     "text": [
      "Using parallel processing with #5 workers\n",
      "Translated 164 prompts in parallel\n",
      "saved #164 translations to /Users/phuonglvh/projects/2170558-thesis-automatic-code-generation-using-machine-learning/bigcode-evaluation-harness/benchmark/codegeex-chat-pro/humaneval-x/author/codegeex-chat-pro-humaneval_python_java_prompts_v003-translations-0-164.json\n"
     ]
    }
   ],
   "source": [
    "prompt_version = 'v003'\n",
    "translate(prompt_version, parallel=True, max_workers=5)"
   ]
  },
  {
   "cell_type": "code",
   "execution_count": 16,
   "metadata": {},
   "outputs": [
    {
     "name": "stdout",
     "output_type": "stream",
     "text": [
      "Using parallel processing with #10 workers\n",
      "Translated 164 prompts in parallel\n",
      "saved #164 translations to /Users/phuonglvh/projects/2170558-thesis-automatic-code-generation-using-machine-learning/bigcode-evaluation-harness/benchmark/codegeex-chat-pro/humaneval-x/author/codegeex-chat-pro-humaneval_python_java_prompts_v005-translations-0-164.json\n"
     ]
    }
   ],
   "source": [
    "prompt_version = 'v005'\n",
    "translate(prompt_version, parallel=True, max_workers=10)"
   ]
  },
  {
   "cell_type": "code",
   "execution_count": 19,
   "metadata": {},
   "outputs": [
    {
     "name": "stdout",
     "output_type": "stream",
     "text": [
      "Using parallel processing with #10 workers\n",
      "Translated 164 prompts in parallel\n",
      "saved #164 translations to /Users/phuonglvh/projects/2170558-thesis-automatic-code-generation-using-machine-learning/bigcode-evaluation-harness/benchmark/codegeex-chat-pro/humaneval-x/author/codegeex-chat-pro-humaneval_python_java_prompts_v006-translations-0-164.json\n"
     ]
    }
   ],
   "source": [
    "prompt_version = 'v006'\n",
    "translate(prompt_version, parallel=True, max_workers=10)"
   ]
  },
  {
   "cell_type": "code",
   "execution_count": 23,
   "metadata": {},
   "outputs": [
    {
     "name": "stdout",
     "output_type": "stream",
     "text": [
      "Using parallel processing with #5 workers\n",
      "Translated 164 prompts in parallel\n",
      "saved #164 translations to /Users/phuonglvh/projects/2170558-thesis-automatic-code-generation-using-machine-learning/bigcode-evaluation-harness/benchmark/codegeex-chat-pro/humaneval-x/author/codegeex-chat-pro-humaneval_python_java_prompts_v007-translations-0-164.json\n"
     ]
    }
   ],
   "source": [
    "prompt_version = 'v007'\n",
    "translate(prompt_version, parallel=True, max_workers=5)"
   ]
  },
  {
   "cell_type": "code",
   "execution_count": null,
   "metadata": {},
   "outputs": [],
   "source": [
    "prompt_version = 'v009'\n",
    "translate(prompt_version, parallel=True, max_workers=5)"
   ]
  }
 ],
 "metadata": {
  "kernelspec": {
   "display_name": "bigcode-evaluation-harness",
   "language": "python",
   "name": "python3"
  },
  "language_info": {
   "codemirror_mode": {
    "name": "ipython",
    "version": 3
   },
   "file_extension": ".py",
   "mimetype": "text/x-python",
   "name": "python",
   "nbconvert_exporter": "python",
   "pygments_lexer": "ipython3",
   "version": "3.12.3"
  }
 },
 "nbformat": 4,
 "nbformat_minor": 2
}
