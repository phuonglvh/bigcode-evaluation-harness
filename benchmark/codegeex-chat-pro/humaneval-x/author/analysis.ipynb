{
 "cells": [
  {
   "cell_type": "code",
   "execution_count": 2,
   "metadata": {},
   "outputs": [],
   "source": [
    "path = './codegeex-chat-pro-humaneval_python_java_prompts_v001-translations-0-164.json'\n",
    "# path = './codegeex-chat-pro-humaneval_python_java_prompts_v002-translations-0-164.json'\n",
    "\n",
    "java_imports = 'import java.util.*;\\nimport java.lang.reflect.*;\\nimport org.javatuples.*;\\nimport java.security.*;\\nimport java.math.*;\\nimport java.io.*;\\nimport java.util.stream.*;'\n",
    "\n",
    "import json\n",
    "all = json.load(open(path, 'r'))\n",
    "\n",
    "for i, a in enumerate(all):\n",
    "    a[0] = f'{java_imports}\\n' + a[0]\n",
    "    \n",
    "json.dump(all, open(path, 'w'), indent=2)"
   ]
  },
  {
   "cell_type": "code",
   "execution_count": null,
   "metadata": {},
   "outputs": [],
   "source": []
  }
 ],
 "metadata": {
  "kernelspec": {
   "display_name": "bigcode-evaluation-harness",
   "language": "python",
   "name": "python3"
  },
  "language_info": {
   "codemirror_mode": {
    "name": "ipython",
    "version": 3
   },
   "file_extension": ".py",
   "mimetype": "text/x-python",
   "name": "python",
   "nbconvert_exporter": "python",
   "pygments_lexer": "ipython3",
   "version": "3.12.3"
  }
 },
 "nbformat": 4,
 "nbformat_minor": 2
}
