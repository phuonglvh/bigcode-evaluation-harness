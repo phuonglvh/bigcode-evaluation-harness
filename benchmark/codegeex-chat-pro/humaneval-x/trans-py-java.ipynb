{
 "cells": [
  {
   "cell_type": "code",
   "execution_count": 1,
   "metadata": {},
   "outputs": [],
   "source": [
    "import os\n",
    "from dotenv import dotenv_values\n",
    "\n",
    "env_path = os.path.join(os.getcwd(), '../../..', '.env')\n",
    "env_dict = dotenv_values(env_path)\n",
    "\n",
    "os.environ['CODEGEEX_CHAT_PRO_TOKEN'] = env_dict['CODEGEEX_CHAT_PRO_TOKEN']"
   ]
  },
  {
   "cell_type": "code",
   "execution_count": null,
   "metadata": {},
   "outputs": [],
   "source": [
    "import json\n",
    "import sys\n",
    "import os\n",
    "\n",
    "sys.path.append('/Users/phuonglvh/projects/2170558-thesis-automatic-code-generation-using-machine-learning/bigcode-evaluation-harness')\n",
    "\n",
    "from bigcode_eval.tasks.code_to_code.codegeex_chat_pro import codegeex_chat_pro_translate_and_postprocess\n",
    "\n",
    "prompt_version='v1'\n",
    "\n",
    "translated_prompts_path = f'/Users/phuonglvh/projects/2170558-thesis-automatic-code-generation-using-machine-learning/bigcode-evaluation-harness/benchmark/datasets/humaneval-x/humaneval_python_java_prompts_{prompt_version}.json'\n",
    "\n",
    "limit_start = 0\n",
    "limit = len(json.load(open(translated_prompts_path, \"r\")))\n",
    "model = 'codegeex-chat-pro'\n",
    "\n",
    "save_translated_codes_path = f'/Users/phuonglvh/projects/2170558-thesis-automatic-code-generation-using-machine-learning/bigcode-evaluation-harness/benchmark/codegeex-chat-pro/humaneval-x/{model}-humaneval_python_java_prompts_{prompt_version}-translations-{limit_start}-{limit}.json'\n",
    "\n",
    "codegeex_chat_pro_translate_and_postprocess(\n",
    "    translated_prompts_path, save_translated_codes_path, limit_start, limit, parallel=False)"
   ]
  },
  {
   "cell_type": "code",
   "execution_count": 10,
   "metadata": {},
   "outputs": [
    {
     "name": "stdout",
     "output_type": "stream",
     "text": [
      "Using parallel processing with #5 workers\n",
      "Translated 164 prompts in parallel\n",
      "saved #164 translations to /Users/phuonglvh/projects/2170558-thesis-automatic-code-generation-using-machine-learning/bigcode-evaluation-harness/benchmark/codegeex-chat-pro/humaneval-x/codegeex-chat-pro-humaneval_python_java_prompts_v1.1-translations-0-164.json\n"
     ]
    }
   ],
   "source": [
    "import json\n",
    "import sys\n",
    "import os\n",
    "\n",
    "sys.path.append('/Users/phuonglvh/projects/2170558-thesis-automatic-code-generation-using-machine-learning/bigcode-evaluation-harness')\n",
    "\n",
    "from bigcode_eval.tasks.code_to_code.codegeex_chat_pro import codegeex_chat_pro_translate_and_postprocess\n",
    "\n",
    "prompt_version='v1.1'\n",
    "\n",
    "translated_prompts_path = f'/Users/phuonglvh/projects/2170558-thesis-automatic-code-generation-using-machine-learning/bigcode-evaluation-harness/benchmark/datasets/humaneval-x/humaneval_python_java_prompts_{prompt_version}.json'\n",
    "\n",
    "limit_start = 0\n",
    "limit = len(json.load(open(translated_prompts_path, \"r\")))\n",
    "model = 'codegeex-chat-pro'\n",
    "\n",
    "save_translated_codes_path = f'/Users/phuonglvh/projects/2170558-thesis-automatic-code-generation-using-machine-learning/bigcode-evaluation-harness/benchmark/codegeex-chat-pro/humaneval-x/{model}-humaneval_python_java_prompts_{prompt_version}-translations-{limit_start}-{limit}.json'\n",
    "\n",
    "codegeex_chat_pro_translate_and_postprocess(\n",
    "    translated_prompts_path, save_translated_codes_path, limit_start, limit, parallel=True, max_workers=5)\n"
   ]
  },
  {
   "cell_type": "code",
   "execution_count": 5,
   "metadata": {},
   "outputs": [
    {
     "name": "stderr",
     "output_type": "stream",
     "text": [
      "Translating Prompts: 100%|██████████| 164/164 [09:28<00:00,  3.47s/prompt]"
     ]
    },
    {
     "name": "stdout",
     "output_type": "stream",
     "text": [
      "Translated 164 prompts in serial\n",
      "saved #164 translations to /Users/phuonglvh/projects/2170558-thesis-automatic-code-generation-using-machine-learning/bigcode-evaluation-harness/benchmark/codegeex-chat-pro/humaneval-x/codegeex-chat-pro-humaneval_python_java_prompts_v2-translations-0-164.json\n"
     ]
    },
    {
     "name": "stderr",
     "output_type": "stream",
     "text": [
      "\n"
     ]
    }
   ],
   "source": [
    "import json\n",
    "import sys\n",
    "import os\n",
    "\n",
    "sys.path.append('/Users/phuonglvh/projects/2170558-thesis-automatic-code-generation-using-machine-learning/bigcode-evaluation-harness')\n",
    "\n",
    "from bigcode_eval.tasks.code_to_code.codegeex_chat_pro import codegeex_chat_pro_translate_and_postprocess\n",
    "\n",
    "prompt_version='v2'\n",
    "\n",
    "translated_prompts_path = f'/Users/phuonglvh/projects/2170558-thesis-automatic-code-generation-using-machine-learning/bigcode-evaluation-harness/benchmark/datasets/humaneval-x/humaneval_python_java_prompts_{prompt_version}.json'\n",
    "\n",
    "limit_start = 0\n",
    "limit = len(json.load(open(translated_prompts_path, \"r\")))\n",
    "model = 'codegeex-chat-pro'\n",
    "\n",
    "save_translated_codes_path = f'/Users/phuonglvh/projects/2170558-thesis-automatic-code-generation-using-machine-learning/bigcode-evaluation-harness/benchmark/codegeex-chat-pro/humaneval-x/{model}-humaneval_python_java_prompts_{prompt_version}-translations-{limit_start}-{limit}.json'\n",
    "\n",
    "codegeex_chat_pro_translate_and_postprocess(\n",
    "    translated_prompts_path, save_translated_codes_path, limit_start, limit, parallel=False)"
   ]
  },
  {
   "cell_type": "code",
   "execution_count": null,
   "metadata": {},
   "outputs": [],
   "source": [
    "prompt = \"\"\"\n",
    "Convert Python to Java code step-by-step starting with the predefined template:\n",
    "Java:\n",
    "```\n",
    "import java.lang.*;\n",
    "import java.util.*;\n",
    "\n",
    "class Solution {\n",
    "    public List <String> separateParenGroups(String paren_string) {\n",
    "```\n",
    "\n",
    "Python:\n",
    "```from typing import List\n",
    "\n",
    "def separate_paren_groups(paren_string: str) -> List[str]:\n",
    "    result = []\n",
    "    current_string = []\n",
    "    current_depth = 0\n",
    "\n",
    "    for c in paren_string:\n",
    "        if c == '(':\n",
    "            current_depth += 1\n",
    "            current_string.append(c)\n",
    "        elif c == ')':\n",
    "            current_depth -= 1\n",
    "            current_string.append(c)\n",
    "\n",
    "            if current_depth == 0:\n",
    "                result.append(''.join(current_string))\n",
    "                current_string.clear()\n",
    "\n",
    "    return result\n",
    "```\n",
    "\"\"\"\n",
    "\n",
    "import json\n",
    "import sys\n",
    "import os\n",
    "\n",
    "sys.path.append('/Users/phuonglvh/projects/2170558-thesis-automatic-code-generation-using-machine-learning/bigcode-evaluation-harness')\n",
    "\n",
    "from bigcode_eval.tasks.code_to_code.codegeex_chat_pro import codegeex_chat_pro_translate\n",
    "\n",
    "print(codegeex_chat_pro_translate(prompt))"
   ]
  },
  {
   "cell_type": "code",
   "execution_count": null,
   "metadata": {},
   "outputs": [],
   "source": [
    "import json\n",
    "import sys\n",
    "import os\n",
    "\n",
    "sys.path.append('/Users/phuonglvh/projects/2170558-thesis-automatic-code-generation-using-machine-learning/bigcode-evaluation-harness')\n",
    "\n",
    "from bigcode_eval.tasks.code_to_code.codegeex_chat_pro import codegeex_chat_pro_translate_and_postprocess\n",
    "\n",
    "prompt_version='v3'\n",
    "\n",
    "translated_prompts_path = f'/Users/phuonglvh/projects/2170558-thesis-automatic-code-generation-using-machine-learning/bigcode-evaluation-harness/benchmark/datasets/humaneval-x/humaneval_python_java_prompts_{prompt_version}.json'\n",
    "\n",
    "limit_start = 0\n",
    "limit = len(json.load(open(translated_prompts_path, \"r\")))\n",
    "model = 'codegeex-chat-pro'\n",
    "\n",
    "save_translated_codes_path = f'/Users/phuonglvh/projects/2170558-thesis-automatic-code-generation-using-machine-learning/bigcode-evaluation-harness/benchmark/codegeex-chat-pro/humaneval-x/{model}-humaneval_python_java_prompts_{prompt_version}-translations-{limit_start}-{limit}.json'\n",
    "\n",
    "codegeex_chat_pro_translate_and_postprocess(\n",
    "    translated_prompts_path, save_translated_codes_path, limit_start, limit, parallel=True)\n"
   ]
  },
  {
   "cell_type": "code",
   "execution_count": 6,
   "metadata": {},
   "outputs": [
    {
     "name": "stdout",
     "output_type": "stream",
     "text": [
      "Using parallel processing with #5 workers\n",
      "Translated 164 prompts in parallel\n",
      "saved #164 translations to /Users/phuonglvh/projects/2170558-thesis-automatic-code-generation-using-machine-learning/bigcode-evaluation-harness/benchmark/codegeex-chat-pro/humaneval-x/codegeex-chat-pro-humaneval_python_java_prompts_v4-translations-0-164.json\n"
     ]
    }
   ],
   "source": [
    "import json\n",
    "import sys\n",
    "import os\n",
    "\n",
    "sys.path.append('/Users/phuonglvh/projects/2170558-thesis-automatic-code-generation-using-machine-learning/bigcode-evaluation-harness')\n",
    "\n",
    "from bigcode_eval.tasks.code_to_code.codegeex_chat_pro import codegeex_chat_pro_translate_and_postprocess\n",
    "\n",
    "prompt_version='v4'\n",
    "\n",
    "translated_prompts_path = f'/Users/phuonglvh/projects/2170558-thesis-automatic-code-generation-using-machine-learning/bigcode-evaluation-harness/benchmark/datasets/humaneval-x/humaneval_python_java_prompts_{prompt_version}.json'\n",
    "\n",
    "limit_start = 0\n",
    "limit = len(json.load(open(translated_prompts_path, \"r\")))\n",
    "model = 'codegeex-chat-pro'\n",
    "\n",
    "save_translated_codes_path = f'/Users/phuonglvh/projects/2170558-thesis-automatic-code-generation-using-machine-learning/bigcode-evaluation-harness/benchmark/codegeex-chat-pro/humaneval-x/{model}-humaneval_python_java_prompts_{prompt_version}-translations-{limit_start}-{limit}.json'\n",
    "\n",
    "codegeex_chat_pro_translate_and_postprocess(\n",
    "    translated_prompts_path, save_translated_codes_path, limit_start, limit, parallel=True)\n"
   ]
  },
  {
   "cell_type": "code",
   "execution_count": 8,
   "metadata": {},
   "outputs": [
    {
     "name": "stdout",
     "output_type": "stream",
     "text": [
      "Using parallel processing with #5 workers\n",
      "Translated 164 prompts in parallel\n",
      "saved #164 translations to /Users/phuonglvh/projects/2170558-thesis-automatic-code-generation-using-machine-learning/bigcode-evaluation-harness/benchmark/codegeex-chat-pro/humaneval-x/codegeex-chat-pro-humaneval_python_java_prompts_v5-translations-0-164.json\n"
     ]
    }
   ],
   "source": [
    "import json\n",
    "import sys\n",
    "import os\n",
    "\n",
    "sys.path.append('/Users/phuonglvh/projects/2170558-thesis-automatic-code-generation-using-machine-learning/bigcode-evaluation-harness')\n",
    "\n",
    "from bigcode_eval.tasks.code_to_code.codegeex_chat_pro import codegeex_chat_pro_translate_and_postprocess\n",
    "\n",
    "prompt_version='v5'\n",
    "\n",
    "translated_prompts_path = f'/Users/phuonglvh/projects/2170558-thesis-automatic-code-generation-using-machine-learning/bigcode-evaluation-harness/benchmark/datasets/humaneval-x/humaneval_python_java_prompts_{prompt_version}.json'\n",
    "\n",
    "limit_start = 0\n",
    "limit = len(json.load(open(translated_prompts_path, \"r\")))\n",
    "model = 'codegeex-chat-pro'\n",
    "\n",
    "save_translated_codes_path = f'/Users/phuonglvh/projects/2170558-thesis-automatic-code-generation-using-machine-learning/bigcode-evaluation-harness/benchmark/codegeex-chat-pro/humaneval-x/{model}-humaneval_python_java_prompts_{prompt_version}-translations-{limit_start}-{limit}.json'\n",
    "\n",
    "codegeex_chat_pro_translate_and_postprocess(\n",
    "    translated_prompts_path, save_translated_codes_path, limit_start, limit, parallel=True)\n"
   ]
  },
  {
   "cell_type": "code",
   "execution_count": 9,
   "metadata": {},
   "outputs": [
    {
     "name": "stdout",
     "output_type": "stream",
     "text": [
      "Using parallel processing with #5 workers\n",
      "Translated 164 prompts in parallel\n",
      "saved #164 translations to /Users/phuonglvh/projects/2170558-thesis-automatic-code-generation-using-machine-learning/bigcode-evaluation-harness/benchmark/codegeex-chat-pro/humaneval-x/codegeex-chat-pro-humaneval_python_java_prompts_v6-translations-0-164.json\n"
     ]
    }
   ],
   "source": [
    "import json\n",
    "import sys\n",
    "import os\n",
    "\n",
    "sys.path.append('/Users/phuonglvh/projects/2170558-thesis-automatic-code-generation-using-machine-learning/bigcode-evaluation-harness')\n",
    "\n",
    "from bigcode_eval.tasks.code_to_code.codegeex_chat_pro import codegeex_chat_pro_translate_and_postprocess\n",
    "\n",
    "prompt_version='v6'\n",
    "\n",
    "translated_prompts_path = f'/Users/phuonglvh/projects/2170558-thesis-automatic-code-generation-using-machine-learning/bigcode-evaluation-harness/benchmark/datasets/humaneval-x/humaneval_python_java_prompts_{prompt_version}.json'\n",
    "\n",
    "limit_start = 0\n",
    "limit = len(json.load(open(translated_prompts_path, \"r\")))\n",
    "model = 'codegeex-chat-pro'\n",
    "\n",
    "save_translated_codes_path = f'/Users/phuonglvh/projects/2170558-thesis-automatic-code-generation-using-machine-learning/bigcode-evaluation-harness/benchmark/codegeex-chat-pro/humaneval-x/{model}-humaneval_python_java_prompts_{prompt_version}-translations-{limit_start}-{limit}.json'\n",
    "\n",
    "codegeex_chat_pro_translate_and_postprocess(\n",
    "    translated_prompts_path, save_translated_codes_path, limit_start, limit, parallel=True, max_workers=5)\n"
   ]
  }
 ],
 "metadata": {
  "kernelspec": {
   "display_name": "bigcode-evaluation-harness",
   "language": "python",
   "name": "python3"
  },
  "language_info": {
   "codemirror_mode": {
    "name": "ipython",
    "version": 3
   },
   "file_extension": ".py",
   "mimetype": "text/x-python",
   "name": "python",
   "nbconvert_exporter": "python",
   "pygments_lexer": "ipython3",
   "version": "3.12.3"
  }
 },
 "nbformat": 4,
 "nbformat_minor": 2
}
