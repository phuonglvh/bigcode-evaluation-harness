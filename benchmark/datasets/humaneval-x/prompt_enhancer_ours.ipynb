{
 "cells": [
  {
   "cell_type": "code",
   "execution_count": 2,
   "metadata": {},
   "outputs": [
    {
     "name": "stdout",
     "output_type": "stream",
     "text": [
      "#py_problems=164\n"
     ]
    }
   ],
   "source": [
    "from read_jsonl import read_jsonl\n",
    "\n",
    "orig_humaneval_py_path = './humaneval_python.jsonl'\n",
    "\n",
    "py_problems = read_jsonl(orig_humaneval_py_path)\n",
    "print(f'#py_problems={len(py_problems)}')"
   ]
  },
  {
   "cell_type": "code",
   "execution_count": 3,
   "metadata": {},
   "outputs": [
    {
     "name": "stdout",
     "output_type": "stream",
     "text": [
      "saved #164 py_generations to ./humaneval_python_generations.json\n",
      "saved #164 py_generations_nodocstrings to ./humaneval_python_generations_nodocstrings.json\n"
     ]
    }
   ],
   "source": [
    "import json\n",
    "\n",
    "save_orig_humaneval_py_generations_path = './humaneval_python_generations.json'\n",
    "save_orig_humaneval_py_generations_nodocstrings_path = './humaneval_python_generations_nodocstrings.json'\n",
    "\n",
    "# save prompt + canonical_solution of each problem in save_orig_humaneval_py_generations_path\n",
    "\n",
    "py_generations = []\n",
    "\n",
    "for problem in py_problems:\n",
    "    py_generations.append(f'{problem[\"prompt\"]}{problem[\"canonical_solution\"]}')\n",
    "    \n",
    "with open(save_orig_humaneval_py_generations_path, 'w') as f:\n",
    "    json.dump(py_generations, f, indent=2)\n",
    "    print(f'saved #{len(py_generations)} py_generations to {save_orig_humaneval_py_generations_path}')\n",
    "    \n",
    "py_generations_nodocstrings = []\n",
    "\n",
    "for problem in py_problems:\n",
    "    py_generations_nodocstrings.append(f'{problem[\"declaration\"]}{problem[\"canonical_solution\"]}')\n",
    "    \n",
    "with open(save_orig_humaneval_py_generations_nodocstrings_path, 'w') as f:\n",
    "    json.dump(py_generations_nodocstrings, f, indent=2)\n",
    "    print(f'saved #{len(py_generations_nodocstrings)} py_generations_nodocstrings to {save_orig_humaneval_py_generations_nodocstrings_path}')"
   ]
  },
  {
   "cell_type": "code",
   "execution_count": 4,
   "metadata": {},
   "outputs": [
    {
     "name": "stdout",
     "output_type": "stream",
     "text": [
      "#java_problems=164\n"
     ]
    }
   ],
   "source": [
    "orig_humaneval_java_path = './humaneval_java.jsonl'\n",
    "\n",
    "java_problems = read_jsonl(orig_humaneval_java_path)\n",
    "print(f'#java_problems={len(java_problems)}')"
   ]
  },
  {
   "cell_type": "code",
   "execution_count": 5,
   "metadata": {},
   "outputs": [],
   "source": [
    "def apply_rules(build_prompt_func, prompt_version):\n",
    "    humaneval_py_java_prompts = []\n",
    "\n",
    "    for py_generation_nodocstrings, java_problem in zip(py_generations_nodocstrings, java_problems):\n",
    "        humaneval_py_java_prompts.append(build_prompt_func(\n",
    "            py_generation_nodocstrings, java_problem['declaration']))\n",
    "    save_prompts_path = f'./us/humaneval_python_java_prompts_{prompt_version}.json'\n",
    "        \n",
    "    with open(save_prompts_path, 'w') as f:\n",
    "        json.dump(humaneval_py_java_prompts, f, indent=2)\n",
    "        print(f'saved #{len(humaneval_py_java_prompts)} humaneval_py_java_prompts to {save_prompts_path}')"
   ]
  },
  {
   "cell_type": "code",
   "execution_count": 6,
   "metadata": {},
   "outputs": [
    {
     "name": "stdout",
     "output_type": "stream",
     "text": [
      "saved #164 humaneval_py_java_prompts to ./us/humaneval_python_java_prompts_v1002.json\n"
     ]
    }
   ],
   "source": [
    "def build_prompt(py_generation_nodocstrings, java_declaration):\n",
    "    return f\"\"\"You will be provided with a Python code in triple backticks. Translate the provided Python code to Java.\n",
    "# language: Python:\n",
    "```\n",
    "{py_generation_nodocstrings}\n",
    "```\n",
    "\n",
    "// language: Java:\n",
    "{java_declaration}\"\"\"\n",
    "\n",
    "prompt_version='v1002'\n",
    "\n",
    "apply_rules(build_prompt, prompt_version)"
   ]
  },
  {
   "cell_type": "code",
   "execution_count": 15,
   "metadata": {},
   "outputs": [
    {
     "name": "stdout",
     "output_type": "stream",
     "text": [
      "saved #164 humaneval_py_java_prompts to ./us/humaneval_python_java_prompts_v1003.json\n"
     ]
    }
   ],
   "source": [
    "def build_prompt(py_generation_nodocstrings, java_declaration):\n",
    "    return f\"\"\"You will be provided with a Python code in triple backticks. Translate the provided Python code to Java.\n",
    "Python:\n",
    "```\n",
    "{py_generation_nodocstrings}\n",
    "```\n",
    "\n",
    "The equivalent Java code is:\n",
    "{java_declaration}\"\"\"\n",
    "\n",
    "prompt_version='v1003'\n",
    "\n",
    "apply_rules(build_prompt, prompt_version)"
   ]
  },
  {
   "cell_type": "code",
   "execution_count": 14,
   "metadata": {},
   "outputs": [
    {
     "name": "stdout",
     "output_type": "stream",
     "text": [
      "saved #164 humaneval_py_java_prompts to ./us/humaneval_python_java_prompts_v1004.json\n"
     ]
    }
   ],
   "source": [
    "def build_prompt(py_generation_nodocstrings, java_declaration):\n",
    "    return f\"\"\"You will be provided with a Python code in triple backticks. Translate the provided Python code to Java.\n",
    "Python:\n",
    "```\n",
    "{py_generation_nodocstrings}\n",
    "```\n",
    "\n",
    "My preferences: ensure functional correctness of Java code.\n",
    "\n",
    "Java:\n",
    "{java_declaration}\"\"\"\n",
    "\n",
    "prompt_version='v1004'\n",
    "\n",
    "apply_rules(build_prompt, prompt_version)"
   ]
  },
  {
   "cell_type": "code",
   "execution_count": 9,
   "metadata": {},
   "outputs": [
    {
     "name": "stdout",
     "output_type": "stream",
     "text": [
      "saved #164 humaneval_py_java_prompts to ./us/humaneval_python_java_prompts_v1005.json\n"
     ]
    }
   ],
   "source": [
    "def build_prompt(py_generation_nodocstrings, java_declaration):\n",
    "    return f\"\"\"You will be provided with a Python code in triple backticks. Translate the provided Python code to Java.\n",
    "Python:\n",
    "```\n",
    "{py_generation_nodocstrings}\n",
    "```\n",
    "\n",
    "Translate the provided Python code to Java:\n",
    "{java_declaration}\"\"\"\n",
    "\n",
    "prompt_version='v1005'\n",
    "\n",
    "apply_rules(build_prompt, prompt_version)"
   ]
  },
  {
   "cell_type": "code",
   "execution_count": 10,
   "metadata": {},
   "outputs": [
    {
     "name": "stdout",
     "output_type": "stream",
     "text": [
      "saved #164 humaneval_py_java_prompts to ./us/humaneval_python_java_prompts_v1006.json\n"
     ]
    }
   ],
   "source": [
    "def build_prompt(py_generation_nodocstrings, java_declaration):\n",
    "    return f\"\"\"You will be provided with a Python code in triple backticks. Translate the provided Python code to Java.\n",
    "Python:\n",
    "```\n",
    "{py_generation_nodocstrings}\n",
    "```\n",
    "\n",
    "Here is the equivalent Java code:\n",
    "{java_declaration}\"\"\"\n",
    "\n",
    "prompt_version='v1006'\n",
    "\n",
    "apply_rules(build_prompt, prompt_version)"
   ]
  },
  {
   "cell_type": "code",
   "execution_count": 11,
   "metadata": {},
   "outputs": [
    {
     "name": "stdout",
     "output_type": "stream",
     "text": [
      "saved #164 humaneval_py_java_prompts to ./us/humaneval_python_java_prompts_v1008.json\n"
     ]
    }
   ],
   "source": [
    "def build_prompt(py_generation_nodocstrings, java_declaration):\n",
    "    return f\"\"\"# TASK\n",
    "You will be provided with a Python code in triple backticks. Translate the provided Python code to Java.\n",
    "\n",
    "# INPUT\n",
    "Python:\n",
    "```\n",
    "{py_generation_nodocstrings}\n",
    "```\n",
    "\n",
    "---\n",
    "# OUTPUT\n",
    "Java:\n",
    "```\n",
    "{java_declaration}\"\"\"\n",
    "\n",
    "prompt_version='v1008'\n",
    "\n",
    "apply_rules(build_prompt, prompt_version)"
   ]
  },
  {
   "cell_type": "code",
   "execution_count": 12,
   "metadata": {},
   "outputs": [
    {
     "name": "stdout",
     "output_type": "stream",
     "text": [
      "saved #164 humaneval_py_java_prompts to ./us/humaneval_python_java_prompts_v1009.json\n"
     ]
    }
   ],
   "source": [
    "def build_prompt(py_generation_nodocstrings, java_declaration):\n",
    "    return f\"\"\"# TASK\n",
    "You will be provided with a Python code in triple backticks. Translate the provided Python code to Java.\n",
    "\n",
    "# INPUT\n",
    "Python:\n",
    "```\n",
    "{py_generation_nodocstrings}\n",
    "```\n",
    "\n",
    "---\n",
    "# OUTPUT\n",
    "Translate the provided Python code to Java starting with:\n",
    "```\n",
    "{java_declaration}\"\"\"\n",
    "\n",
    "prompt_version='v1009'\n",
    "\n",
    "apply_rules(build_prompt, prompt_version)"
   ]
  },
  {
   "cell_type": "code",
   "execution_count": 13,
   "metadata": {},
   "outputs": [
    {
     "name": "stdout",
     "output_type": "stream",
     "text": [
      "saved #164 humaneval_py_java_prompts to ./us/humaneval_python_java_prompts_v2002.json\n"
     ]
    }
   ],
   "source": [
    "def build_prompt(py_generation_nodocstrings, java_declaration):\n",
    "    return f\"\"\"You will be provided with a Python code in triple backticks. Translate the provided Python code to Java.\n",
    "Python:\n",
    "````\n",
    "{py_generation_nodocstrings}\n",
    "```\n",
    "\n",
    "// language: Java:\n",
    "{java_declaration}\"\"\"\n",
    "\n",
    "prompt_version='v2002'\n",
    "\n",
    "apply_rules(build_prompt, prompt_version)"
   ]
  },
  {
   "cell_type": "code",
   "execution_count": 16,
   "metadata": {},
   "outputs": [
    {
     "name": "stdout",
     "output_type": "stream",
     "text": [
      "saved #164 humaneval_py_java_prompts to ./us/humaneval_python_java_prompts_v2003.json\n"
     ]
    }
   ],
   "source": [
    "def build_prompt(py_generation_nodocstrings, java_declaration):\n",
    "    return f\"\"\"# TASK\n",
    "You will be provided with a Python code in triple backticks. Translate the provided Python code to Java.\n",
    "\n",
    "# INPUT\n",
    "Python:\n",
    "```\n",
    "# language: Python\n",
    "{py_generation_nodocstrings}\n",
    "```\n",
    "\n",
    "---\n",
    "# OUTPUT\n",
    "Translate the provided Python code to Java starting with:\n",
    "```\n",
    "// language: Java\n",
    "{java_declaration}\"\"\"\n",
    "\n",
    "prompt_version='v2003'\n",
    "\n",
    "apply_rules(build_prompt, prompt_version)"
   ]
  }
 ],
 "metadata": {
  "kernelspec": {
   "display_name": "bigcode-evaluation-harness",
   "language": "python",
   "name": "python3"
  },
  "language_info": {
   "codemirror_mode": {
    "name": "ipython",
    "version": 3
   },
   "file_extension": ".py",
   "mimetype": "text/x-python",
   "name": "python",
   "nbconvert_exporter": "python",
   "pygments_lexer": "ipython3",
   "version": "3.12.3"
  }
 },
 "nbformat": 4,
 "nbformat_minor": 2
}
