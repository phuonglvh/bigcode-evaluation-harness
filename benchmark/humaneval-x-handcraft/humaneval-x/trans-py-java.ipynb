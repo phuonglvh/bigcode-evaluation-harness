{
 "cells": [
  {
   "cell_type": "code",
   "execution_count": 2,
   "metadata": {},
   "outputs": [
    {
     "name": "stdout",
     "output_type": "stream",
     "text": [
      "saved #164 translations to /Users/phuonglvh/projects/2170558-thesis-automatic-code-generation-using-machine-learning/bigcode-evaluation-harness/benchmark/humaneval-x-handcraft/humaneval-x/humaneval-x-handcraft-humaneval_python_java_prompts-translations-0-164.json\n"
     ]
    }
   ],
   "source": [
    "import json\n",
    "\n",
    "humanevalx_java_path = '/Users/phuonglvh/projects/2170558-thesis-automatic-code-generation-using-machine-learning/bigcode-evaluation-harness/benchmark/datasets/humaneval-x/humanevalx-java-refined.json'\n",
    "\n",
    "handcrafted_humanevalx_java_path = '/Users/phuonglvh/projects/2170558-thesis-automatic-code-generation-using-machine-learning/bigcode-evaluation-harness/benchmark/humaneval-x-handcraft/humaneval-x/humaneval-x-handcraft-humaneval_python_java_prompts-translations-0-164.json'\n",
    "\n",
    "java_problems = json.load(open(humanevalx_java_path, 'r'))\n",
    "\n",
    "translations = []\n",
    "for problem in java_problems:\n",
    "    canonical_solution = problem['canonical_solution'].replace('\\n    }\\n}', '')\n",
    "    declaration = problem['declaration']\n",
    "    translations.append([f'{declaration}{canonical_solution}'])\n",
    "    \n",
    "with open(handcrafted_humanevalx_java_path, 'w') as f:\n",
    "    json.dump(translations, f)\n",
    "    print(f'saved #{len(translations)} translations to {handcrafted_humanevalx_java_path}')"
   ]
  },
  {
   "cell_type": "code",
   "execution_count": null,
   "metadata": {},
   "outputs": [],
   "source": []
  },
  {
   "cell_type": "code",
   "execution_count": null,
   "metadata": {},
   "outputs": [],
   "source": [
    "from bigcode_eval.tasks.code_to_code.codegeex_chat_pro import codegeex_chat_pro_translate_and_postprocess\n",
    "# translated_prompts_path = \"/Users/phuonglvh/projects/2170558-thesis-automatic-code-generation-using-machine-learning/bigcode-evaluation-harness/benchmark/codegeex2-6b/code2code/py-java/do_sampleFalse/codegeex2-6b-do_sampleFalse-bf16-n1-seed0-batch1-maxlen1024-java-generations-0-158_code2code-multiple-java_translated-prompts.json\"\n",
    "\n",
    "# translated_prompts_path = '/Users/phuonglvh/projects/2170558-thesis-automatic-code-generation-using-machine-learning/bigcode-evaluation-harness/translated-prompts.json'\n",
    "\n",
    "# save_translated_codes_path = '/Users/phuonglvh/projects/2170558-thesis-automatic-code-generation-using-machine-learning/bigcode-evaluation-harness/codegeex-chat-pro-0-158_code2code-multiple-java-translated-codes.json'\n",
    "\n",
    "# /Users/phuonglvh/projects/2170558-thesis-automatic-code-generation-using-machine-learning/bigcode-evaluation-harness/benchmark/datasets/MultiPL-E/humaneval-py-reworded.json\n",
    "\n",
    "translated_prompts_path = '/Users/phuonglvh/projects/2170558-thesis-automatic-code-generation-using-machine-learning/bigcode-evaluation-harness/benchmark/datasets/humaneval-x/humaneval_python_java_prompts.json'\n",
    "\n",
    "limit_start = 0\n",
    "limit = len(json.load(open(translated_prompts_path, \"r\")))\n",
    "model = 'codegeex-chat-pro'\n",
    "\n",
    "save_translated_codes_path = f'/Users/phuonglvh/projects/2170558-thesis-automatic-code-generation-using-machine-learning/bigcode-evaluation-harness/benchmark/codegeex-chat-pro/humaneval-x/{model}-humaneval_python_java_prompts-translations-{limit_start}-{limit}.json'\n",
    "\n",
    "codegeex_chat_pro_translate_and_postprocess(\n",
    "    translated_prompts_path, save_translated_codes_path, limit_start, limit, parallel=True)"
   ]
  },
  {
   "cell_type": "code",
   "execution_count": null,
   "metadata": {},
   "outputs": [],
   "source": []
  }
 ],
 "metadata": {
  "kernelspec": {
   "display_name": "bigcode-evaluation-harness",
   "language": "python",
   "name": "python3"
  },
  "language_info": {
   "codemirror_mode": {
    "name": "ipython",
    "version": 3
   },
   "file_extension": ".py",
   "mimetype": "text/x-python",
   "name": "python",
   "nbconvert_exporter": "python",
   "pygments_lexer": "ipython3",
   "version": "3.12.3"
  }
 },
 "nbformat": 4,
 "nbformat_minor": 2
}
