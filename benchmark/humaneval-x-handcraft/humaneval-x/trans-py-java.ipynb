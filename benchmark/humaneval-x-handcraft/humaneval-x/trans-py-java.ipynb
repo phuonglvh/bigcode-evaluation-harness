{
 "cells": [
  {
   "cell_type": "code",
   "execution_count": 6,
   "metadata": {},
   "outputs": [
    {
     "name": "stdout",
     "output_type": "stream",
     "text": [
      "saved #164 translations to /Users/phuonglvh/projects/2170558-thesis-automatic-code-generation-using-machine-learning/bigcode-evaluation-harness/benchmark/humaneval-x-handcraft/humaneval-x/humaneval-x-handcraft-humaneval_python_java_prompts-translations-0-164.json\n"
     ]
    }
   ],
   "source": [
    "import json\n",
    "\n",
    "humanevalx_java_path = '/Users/phuonglvh/projects/2170558-thesis-automatic-code-generation-using-machine-learning/bigcode-evaluation-harness/benchmark/datasets/humaneval-x/humanevalx-java-refined.json'\n",
    "\n",
    "handcrafted_humanevalx_java_path = '/Users/phuonglvh/projects/2170558-thesis-automatic-code-generation-using-machine-learning/bigcode-evaluation-harness/benchmark/humaneval-x-handcraft/humaneval-x/humaneval-x-handcraft-humaneval_python_java_prompts-translations-0-164.json'\n",
    "\n",
    "java_problems = json.load(open(humanevalx_java_path, 'r'))\n",
    "\n",
    "translations = []\n",
    "for problem in java_problems:\n",
    "    canonical_solution = problem['canonical_solution'].replace('\\n    }\\n}', '')\n",
    "    declaration = problem['declaration']\n",
    "    translations.append([f'{declaration}{canonical_solution}'])\n",
    "    \n",
    "with open(handcrafted_humanevalx_java_path, 'w') as f:\n",
    "    json.dump(translations, f)\n",
    "    print(f'saved #{len(translations)} translations to {handcrafted_humanevalx_java_path}')"
   ]
  }
 ],
 "metadata": {
  "kernelspec": {
   "display_name": "bigcode-evaluation-harness",
   "language": "python",
   "name": "python3"
  },
  "language_info": {
   "codemirror_mode": {
    "name": "ipython",
    "version": 3
   },
   "file_extension": ".py",
   "mimetype": "text/x-python",
   "name": "python",
   "nbconvert_exporter": "python",
   "pygments_lexer": "ipython3",
   "version": "3.12.3"
  }
 },
 "nbformat": 4,
 "nbformat_minor": 2
}
