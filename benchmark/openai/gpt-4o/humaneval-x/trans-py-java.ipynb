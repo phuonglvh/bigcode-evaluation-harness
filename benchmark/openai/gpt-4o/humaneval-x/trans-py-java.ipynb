{
 "cells": [
  {
   "cell_type": "code",
   "execution_count": null,
   "metadata": {},
   "outputs": [],
   "source": [
    "!source '/Users/phuonglvh/projects/2170558-thesis-automatic-code-generation-using-machine-learning/bigcode-evaluation-harness/.env'"
   ]
  },
  {
   "cell_type": "code",
   "execution_count": 2,
   "metadata": {},
   "outputs": [
    {
     "name": "stdout",
     "output_type": "stream",
     "text": [
      "saved 164 prompts to /Users/phuonglvh/projects/2170558-thesis-automatic-code-generation-using-machine-learning/bigcode-evaluation-harness/benchmark/openai/gpt-4o/humaneval-x/gpt-4o-humaneval_python_java_prompts_v5.json\n"
     ]
    }
   ],
   "source": [
    "import json\n",
    "import sys\n",
    "\n",
    "prompt_version = 'v5'\n",
    "\n",
    "translated_prompts_path = f'/Users/phuonglvh/projects/2170558-thesis-automatic-code-generation-using-machine-learning/bigcode-evaluation-harness/benchmark/datasets/humaneval-x/humaneval_python_java_prompts_{prompt_version}.json'\n",
    "\n",
    "openai_translated_prompts_path = f'/Users/phuonglvh/projects/2170558-thesis-automatic-code-generation-using-machine-learning/bigcode-evaluation-harness/benchmark/openai/gpt-4o/humaneval-x/gpt-4o-humaneval_python_java_prompts_{prompt_version}.json'\n",
    "\n",
    "prompts = []\n",
    "for prompt in json.load(open(translated_prompts_path, \"r\")):\n",
    "    new_prompt = prompt.replace(\n",
    "        'code translation', 'code translation. no explanation. respond full code only')\n",
    "    prompts.append(new_prompt)\n",
    "    \n",
    "json.dump(prompts, open(openai_translated_prompts_path, \"w\"))\n",
    "print(f'saved {len(prompts)} prompts to {openai_translated_prompts_path}')"
   ]
  },
  {
   "cell_type": "code",
   "execution_count": null,
   "metadata": {},
   "outputs": [],
   "source": [
    "import json, sys\n",
    "\n",
    "sys.path.append('/Users/phuonglvh/projects/2170558-thesis-automatic-code-generation-using-machine-learning/bigcode-evaluation-harness')\n",
    "\n",
    "from bigcode_eval.tasks.code_to_code.openai import openai_translate_and_postprocess\n",
    "\n",
    "prompt_version='v2'\n",
    "\n",
    "openai_translated_prompts_path = f'/Users/phuonglvh/projects/2170558-thesis-automatic-code-generation-using-machine-learning/bigcode-evaluation-harness/benchmark/openai/gpt-4o/humaneval-x/gpt-4o-humaneval_python_java_prompts_{prompt_version}.json'\n",
    "\n",
    "limit_start = 0\n",
    "limit = len(json.load(open(translated_prompts_path, \"r\")))\n",
    "# limit=1\n",
    "model = 'gpt-4o'\n",
    "\n",
    "save_translated_codes_path = f'/Users/phuonglvh/projects/2170558-thesis-automatic-code-generation-using-machine-learning/bigcode-evaluation-harness/benchmark/openai/{model}/humaneval-x/{model}-humaneval_python_java_prompts_{prompt_version}-translations-{limit_start}-{limit}.json'\n",
    "\n",
    "openai_translate_and_postprocess(\n",
    "    translated_prompts_path, save_translated_codes_path, limit_start, limit, parallel=True)"
   ]
  },
  {
   "cell_type": "code",
   "execution_count": null,
   "metadata": {},
   "outputs": [
    {
     "name": "stdout",
     "output_type": "stream",
     "text": [
      "saved 164 prompts to /Users/phuonglvh/projects/2170558-thesis-automatic-code-generation-using-machine-learning/bigcode-evaluation-harness/benchmark/openai/gpt-4o/humaneval-x/gpt-4o-humaneval_python_java_prompts_v5.json\n",
      "Using parallel processing with #5 workers\n",
      "Translated 10 prompts in parallel\n",
      "saved #10 translations to /Users/phuonglvh/projects/2170558-thesis-automatic-code-generation-using-machine-learning/bigcode-evaluation-harness/benchmark/openai/gpt-4o/humaneval-x/gpt-4o-humaneval_python_java_prompts_v5-translations-0-10.json\n"
     ]
    }
   ],
   "source": [
    "import json, sys\n",
    "\n",
    "sys.path.append('/Users/phuonglvh/projects/2170558-thesis-automatic-code-generation-using-machine-learning/bigcode-evaluation-harness')\n",
    "\n",
    "from bigcode_eval.tasks.code_to_code.openai import openai_translate_and_postprocess\n",
    "\n",
    "import json\n",
    "import sys\n",
    "\n",
    "prompt_version = 'v5'\n",
    "\n",
    "translated_prompts_path = f'/Users/phuonglvh/projects/2170558-thesis-automatic-code-generation-using-machine-learning/bigcode-evaluation-harness/benchmark/datasets/humaneval-x/humaneval_python_java_prompts_{prompt_version}.json'\n",
    "\n",
    "openai_translated_prompts_path = f'/Users/phuonglvh/projects/2170558-thesis-automatic-code-generation-using-machine-learning/bigcode-evaluation-harness/benchmark/openai/gpt-4o/humaneval-x/gpt-4o-humaneval_python_java_prompts_{prompt_version}.json'\n",
    "\n",
    "prompts = []\n",
    "for prompt in json.load(open(translated_prompts_path, \"r\")):\n",
    "    # new_prompt = f'{prompt}\\nCode only, no explanation:\\n'\n",
    "    # new_prompt = f'code translation. no explanation. respond full code only. \\n{prompt}'\n",
    "    new_prompt = f'{prompt}\\nNo yapping! Here\\'s the translated Python code to Java, using your predefined template:\\n// language: Java\\n'\n",
    "    prompts.append(new_prompt)\n",
    "    \n",
    "json.dump(prompts, open(openai_translated_prompts_path, \"w\"))\n",
    "print(f'saved {len(prompts)} prompts to {openai_translated_prompts_path}')\n",
    "\n",
    "\n",
    "limit_start = 0\n",
    "# limit = len(json.load(open(translated_prompts_path, \"r\")))\n",
    "limit=10\n",
    "model = 'gpt-4o'\n",
    "\n",
    "save_translated_codes_path = f'/Users/phuonglvh/projects/2170558-thesis-automatic-code-generation-using-machine-learning/bigcode-evaluation-harness/benchmark/openai/{model}/humaneval-x/{model}-humaneval_python_java_prompts_{prompt_version}-translations-{limit_start}-{limit}.json'\n",
    "\n",
    "openai_translate_and_postprocess(\n",
    "    translated_prompts_path, save_translated_codes_path, limit_start, limit, parallel=True, max_workers=10)"
   ]
  }
 ],
 "metadata": {
  "kernelspec": {
   "display_name": "bigcode-evaluation-harness",
   "language": "python",
   "name": "python3"
  },
  "language_info": {
   "codemirror_mode": {
    "name": "ipython",
    "version": 3
   },
   "file_extension": ".py",
   "mimetype": "text/x-python",
   "name": "python",
   "nbconvert_exporter": "python",
   "pygments_lexer": "ipython3",
   "version": "3.12.3"
  }
 },
 "nbformat": 4,
 "nbformat_minor": 2
}
