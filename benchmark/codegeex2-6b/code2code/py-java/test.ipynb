{
 "cells": [
  {
   "cell_type": "code",
   "execution_count": 287,
   "metadata": {},
   "outputs": [],
   "source": [
    "import re\n",
    "from typing import List\n",
    "\n",
    "\n",
    "def build_py_func_with_empty_body(prompt: str) -> str:\n",
    "    # def strlen(string: str) -> int: pass\n",
    "    return prompt[(prompt.index('def ')):(prompt.index(':\\n') + 1)] + ' pass'\n",
    "\n",
    "\n",
    "def extract_py_function_name_from_prompt(prompt: str) -> str:\n",
    "    func = build_py_func_with_empty_body(prompt)\n",
    "    prefix = 'def '\n",
    "    return func[func.index(prefix) + len(prefix):func.index('(')]"
   ]
  },
  {
   "cell_type": "code",
   "execution_count": 288,
   "metadata": {},
   "outputs": [],
   "source": [
    "from typing import List\n",
    "\n",
    "\n",
    "def build_java_public_static_func_with_empty_body(prompt: str) -> str:\n",
    "    # return prompt[(prompt.index('public static ')):(prompt.index(') {') + 3)] + '}'\n",
    "    # humaneval-x only\n",
    "    pattern_1 = ') {'\n",
    "    pattern_2 = '){'\n",
    "    pattern_3 = ') throws'\n",
    "    ending_idx = -1\n",
    "    \n",
    "    if pattern_1 in prompt:\n",
    "        ending_idx = prompt.rindex(pattern_1) + len(pattern_1)\n",
    "        return prompt[(prompt.rindex('public ')):ending_idx] + '}'\n",
    "    elif pattern_2 in prompt:\n",
    "        ending_idx = prompt.rindex(pattern_2) + len(pattern_2)\n",
    "        return prompt[(prompt.rindex('public ')):ending_idx] + '}'\n",
    "    elif pattern_3 in prompt:\n",
    "        ending_idx = prompt.rindex(pattern_3)\n",
    "        return prompt[(prompt.rindex('public ')):ending_idx] + '{ }'\n",
    "    else:\n",
    "        raise ValueError('Cannot find the end of the function body')\n",
    "\n",
    "def extract_java_function_name_from_prompt(prompt: str) -> str:\n",
    "    func = build_java_public_static_func_with_empty_body(prompt)\n",
    "    prefix = 'public'\n",
    "    type_and_func_name = func[func.index(prefix) + len(prefix):func.index('(')]\n",
    "    return type_and_func_name.split(' ')[-1]"
   ]
  },
  {
   "cell_type": "code",
   "execution_count": 289,
   "metadata": {},
   "outputs": [],
   "source": [
    "def audit_translated_prompt(self, source_code, target_prompt):\n",
    "    py_func_name = extract_py_function_name_from_prompt(source_code).replace('_', '').lower()\n",
    "    java_func_name = extract_java_function_name_from_prompt(target_prompt).lower()\n",
    "    \n",
    "    if py_func_name != java_func_name:\n",
    "        raise ValueError(f\"Formalized function names of source and target prompts do not match: {py_func_name} <> {java_func_name}\")"
   ]
  },
  {
   "cell_type": "code",
   "execution_count": 290,
   "metadata": {},
   "outputs": [],
   "source": [
    "source_path = '/Users/phuonglvh/projects/2170558-thesis-automatic-code-generation-using-machine-learning/bigcode-evaluation-harness/benchmark/CodeLlama-13b-Python-hf/py/improve/pass@1/t0.2-p0.95-k0-batch1-n1/CodeLlama-13b-Python-hf-temp0.2-p0.95-k0-bf16-n1-seed5-batch1-maxlen1024-py-generations-0-158_multiple-py.json'\n",
    "\n",
    "# tgt_path = '/Users/phuonglvh/projects/2170558-thesis-automatic-code-generation-using-machine-learning/bigcode-evaluation-harness/benchmark/datasets/humaneval-x/humaneval_java.json'\n",
    "\n",
    "# tgt_path = '/Users/phuonglvh/projects/2170558-thesis-automatic-code-generation-using-machine-learning/bigcode-evaluation-harness/benchmark/datasets/MultiPL-E/humaneval-java-reworded.json'\n",
    "\n",
    "tgt_path = '/Users/phuonglvh/projects/2170558-thesis-automatic-code-generation-using-machine-learning/bigcode-evaluation-harness/bigcode_eval/tasks/code_to_code/datasets/humaneval-py-java-refined.json'"
   ]
  },
  {
   "cell_type": "code",
   "execution_count": 291,
   "metadata": {},
   "outputs": [
    {
     "name": "stdout",
     "output_type": "stream",
     "text": [
      "tgt_tasks=158\n",
      "java_func_names=dict_keys(['strlen', 'encrypt', 'checkdictcase', 'add', 'fixspaces', 'fibfib', 'doublethedifference', 'filterintegers', 'carracecollision', 'parsemusic', 'decimaltobinary', 'allprefixes', 'addtwonumbers', 'eat', 'maxfill', 'doalgebra', 'flipcase', 'bylength', 'factorize', 'countupto', 'unique', 'totalmatch', 'maxelement', 'isnested', 'roundedavg', 'oddcount', 'moveoneball', 'evenoddpalindrome', 'isequaltosumeven', 'derivative', 'issorted', 'solve', 'tri', 'fizzbuzz', 'filterbyprefix', 'solvesumdigitsinbin', 'minpath', 'countupper', 'maximum', 'largestdivisor', 'sortarray', 'f', 'iscube', 'encode', 'isbored', 'pairssumtozero', 'trianglearearounded', 'bf', 'digits', 'wordsstring', 'howmanytimes', 'compareone', 'removevowels', 'strangesortlist', 'findclosestelements', 'issimplepower', 'primefib', 'orderbypoints', 'hascloseelements', 'makepalindrome', 'stringxor', 'specialfactorial', 'addelements', 'fib4', 'uniquedigits', 'selectwords', 'willitfly', 'fib', 'strongestextension', 'matchparens', 'nextsmallest', 'anyint', 'truncatenumber', 'incrlist', 'xory', 'modp', 'evenoddcount', 'ishappy', 'largestprimefactor', 'digitsum', 'rescaletounit', 'solution', 'pluck', 'getmaxtriples', 'exchange', 'median', 'primelength', 'smallestchange', 'sumsquares', 'filenamecheck', 'triplessumtozero', 'intersection', 'separateparengroups', 'compare', 'startsoneends', 'checkiflastcharisaletter', 'validdate', 'countnums', 'antishuffle', 'ispalindrome', 'getclosestvowel', 'isprime', 'simplify', 'hexkey', 'wordsinsentence', 'histogram', 'getrow', 'getoddcollatz', 'canarrange', 'sortnumbers', 'circularshift', 'sumsquaresextra', 'skjkasdkd', 'sumproduct', 'choosenum', 'largestsmallestintegers', 'countdistinctcharacters', 'makeapile', 'prodsigns', 'minsubarraysum', 'stringsequence', 'cycpatterncheck', 'monotonic', 'longest', 'belowthreshold', 'ismultiplyprime', 'getpositive', 'sortthird', 'parsenestedparens', 'trianglearea', 'multiply', 'meanabsolutedeviation', 'common', 'inttominiroman', 'fruitdistribution', 'reversedelete', 'greatestcommondivisor', 'splitwords', 'sortarraybybin', 'concatenate', 'sortedlistsum', 'filterbysubstring', 'closestinteger', 'vowelscount', 'findmax', 'stringtomd5', 'changebase', 'rightangletriangle', 'numericallettergrade', 'intersperse', 'specialfilter', 'sumton', 'removeduplicates', 'generateintegers', 'rollingmax', 'belowzero', 'search', 'correctbracketing'])\n"
     ]
    }
   ],
   "source": [
    "import json\n",
    "source_gens = json.load(open(source_path, 'r'))\n",
    "tgt_tasks = json.load(open(tgt_path, 'r'))\n",
    "\n",
    "print(f'tgt_tasks={len(tgt_tasks)}')\n",
    "\n",
    "# build target {task -> prompt}\n",
    "tgt_map = {}\n",
    "\n",
    "for tgt_task in tgt_tasks:\n",
    "    tgt_prompt = tgt_task['prompt']\n",
    "    try:\n",
    "        java_func_name = extract_java_function_name_from_prompt(tgt_prompt).lower()\n",
    "        \n",
    "        if java_func_name in tgt_map:\n",
    "            print(f'existing:{tgt_map[java_func_name]}')\n",
    "            print(f'current:{tgt_prompt}')\n",
    "            raise Exception(f'java_func_name={java_func_name} already exists')\n",
    "    \n",
    "        \n",
    "        tgt_map[java_func_name] = tgt_task\n",
    "    except Exception as ex:\n",
    "        print(ex)\n",
    "        print(tgt_prompt)\n",
    "        \n",
    "print(f'java_func_names={tgt_map.keys()}')\n",
    "\n",
    "for task_gens in source_gens:\n",
    "    task_gen = task_gens[0]\n",
    "    task_py_func_name = extract_py_function_name_from_prompt(\n",
    "        task_gen).lower().replace('_', '')\n",
    "\n",
    "    tgt_prompt = tgt_map[task_py_func_name]\n",
    "\n",
    "    assert tgt_prompt\n",
    "\n",
    "    # print(task_py_func_name)"
   ]
  },
  {
   "cell_type": "code",
   "execution_count": 292,
   "metadata": {},
   "outputs": [
    {
     "name": "stdout",
     "output_type": "stream",
     "text": [
      "source_gens=158\n",
      "py_func_names=dict_keys(['strlen', 'encrypt', 'checkdictcase', 'add', 'fixspaces', 'fibfib', 'doublethedifference', 'filterintegers', 'carracecollision', 'parsemusic', 'decimaltobinary', 'allprefixes', 'addtwonumbers', 'eat', 'maxfill', 'doalgebra', 'flipcase', 'bylength', 'factorize', 'countupto', 'unique', 'totalmatch', 'maxelement', 'isnested', 'roundedavg', 'oddcount', 'moveoneball', 'evenoddpalindrome', 'isequaltosumeven', 'derivative', 'issorted', 'solve', 'tri', 'fizzbuzz', 'filterbyprefix', 'solvesumdigitsinbin', 'minpath', 'countupper', 'maximum', 'largestdivisor', 'sortarray', 'f', 'iscube', 'encode', 'isbored', 'pairssumtozero', 'trianglearearounded', 'bf', 'digits', 'wordsstring', 'howmanytimes', 'compareone', 'removevowels', 'strangesortlist', 'findclosestelements', 'issimplepower', 'primefib', 'orderbypoints', 'hascloseelements', 'makepalindrome', 'stringxor', 'specialfactorial', 'addelements', 'fib4', 'uniquedigits', 'selectwords', 'willitfly', 'fib', 'strongestextension', 'matchparens', 'nextsmallest', 'anyint', 'truncatenumber', 'incrlist', 'xory', 'modp', 'evenoddcount', 'ishappy', 'largestprimefactor', 'digitsum', 'rescaletounit', 'solution', 'pluck', 'getmaxtriples', 'exchange', 'median', 'primelength', 'smallestchange', 'sumsquares', 'filenamecheck', 'triplessumtozero', 'intersection', 'separateparengroups', 'compare', 'startsoneends', 'checkiflastcharisaletter', 'validdate', 'countnums', 'antishuffle', 'ispalindrome', 'getclosestvowel', 'isprime', 'simplify', 'hexkey', 'wordsinsentence', 'histogram', 'getrow', 'getoddcollatz', 'canarrange', 'sortnumbers', 'circularshift', 'sumsquaresextra', 'skjkasdkd', 'sumproduct', 'choosenum', 'largestsmallestintegers', 'countdistinctcharacters', 'makeapile', 'prodsigns', 'minsubarraysum', 'stringsequence', 'cycpatterncheck', 'monotonic', 'longest', 'belowthreshold', 'ismultiplyprime', 'getpositive', 'sortthird', 'parsenestedparens', 'trianglearea', 'multiply', 'meanabsolutedeviation', 'common', 'inttominiroman', 'fruitdistribution', 'reversedelete', 'greatestcommondivisor', 'splitwords', 'sortarraybybin', 'concatenate', 'sortedlistsum', 'filterbysubstring', 'closestinteger', 'vowelscount', 'findmax', 'stringtomd5', 'changebase', 'rightangletriangle', 'numericallettergrade', 'intersperse', 'specialfilter', 'sumton', 'removeduplicates', 'generateintegers', 'rollingmax', 'belowzero', 'search', 'correctbracketing'])\n"
     ]
    }
   ],
   "source": [
    "\n",
    "src_map = {}\n",
    "\n",
    "for src_gens in source_gens:\n",
    "    src_prompt = src_gens[0]\n",
    "    try:\n",
    "        py_func_name = extract_py_function_name_from_prompt(\n",
    "            src_prompt).lower().replace('_', '')\n",
    "\n",
    "        if py_func_name in src_map:\n",
    "            raise Exception(f'py_func_name={py_func_name} already exists')\n",
    "\n",
    "        src_map[py_func_name] = tgt_task\n",
    "    except Exception as ex:\n",
    "        print(ex)\n",
    "        print(src_prompt)\n",
    "        raise ex\n",
    "\n",
    "print(f'source_gens={len(source_gens)}')\n",
    "print(f'py_func_names={src_map.keys()}')\n",
    "\n",
    "for tgt_task in tgt_tasks:\n",
    "    tgt_prompt = tgt_task['prompt']\n",
    "\n",
    "    tgt_java_func_name = extract_java_function_name_from_prompt(\n",
    "        tgt_prompt).lower().replace('_', '')\n",
    "\n",
    "    assert tgt_java_func_name\n",
    "    assert src_map[tgt_java_func_name] is not None"
   ]
  },
  {
   "cell_type": "code",
   "execution_count": 293,
   "metadata": {},
   "outputs": [],
   "source": [
    "multiple_java_path = '/Users/phuonglvh/projects/2170558-thesis-automatic-code-generation-using-machine-learning/bigcode-evaluation-harness/benchmark/datasets/MultiPL-E/humaneval-java-reworded.json'"
   ]
  }
 ],
 "metadata": {
  "kernelspec": {
   "display_name": "bigcode-evaluation-harness",
   "language": "python",
   "name": "python3"
  },
  "language_info": {
   "codemirror_mode": {
    "name": "ipython",
    "version": 3
   },
   "file_extension": ".py",
   "mimetype": "text/x-python",
   "name": "python",
   "nbconvert_exporter": "python",
   "pygments_lexer": "ipython3",
   "version": "3.12.3"
  }
 },
 "nbformat": 4,
 "nbformat_minor": 2
}
