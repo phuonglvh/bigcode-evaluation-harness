{
 "cells": [
  {
   "cell_type": "code",
   "execution_count": 9,
   "metadata": {},
   "outputs": [
    {
     "name": "stdout",
     "output_type": "stream",
     "text": [
      "/Users/phuonglvh/.projects/github.com/phuonglvh/code/bigcode-evaluation-harness/benchmark/codellama-13b-python/java/improve/t0.8-p0.95-k5\n",
      "0-15-stdout.txt\n",
      "15-15-stdout.txt\n",
      "30-20-stdout.txt\n",
      "CodeLlama-13b-Python-hf-temp0.8-p0.95-k5-bf16-n200-batch10-maxlen1024-java-generations-0-15_multiple-java.json\n",
      "CodeLlama-13b-Python-hf-temp0.8-p0.95-k5-bf16-n200-batch10-maxlen1024-java-generations-0-50_multiple-java.json\n",
      "CodeLlama-13b-Python-hf-temp0.8-p0.95-k5-bf16-n200-batch10-maxlen1024-java-generations-15-15_multiple-java.json\n",
      "CodeLlama-13b-Python-hf-temp0.8-p0.95-k5-bf16-n200-batch10-maxlen1024-java-generations-30-20_multiple-java.json\n",
      "gen-eval-java.sh\n",
      "main.ipynb\n"
     ]
    }
   ],
   "source": [
    "!pwd\n",
    "!ls"
   ]
  },
  {
   "cell_type": "code",
   "execution_count": 2,
   "metadata": {},
   "outputs": [],
   "source": [
    "t=0.8\n",
    "p=0.95\n",
    "k=5\n",
    "\n",
    "part_1_path = f'./CodeLlama-13b-Python-hf-temp{t}-p{p}-k{k}-bf16-n200-batch10-maxlen1024-java-generations-0-15_multiple-java.json'\n",
    "part_2_path = f'./CodeLlama-13b-Python-hf-temp{t}-p{p}-k{k}-bf16-n200-batch10-maxlen1024-java-generations-15-15_multiple-java.json'\n",
    "part_3_path = f'./CodeLlama-13b-Python-hf-temp{t}-p{p}-k{k}-bf16-n200-batch10-maxlen1024-java-generations-30-20_multiple-java.json'"
   ]
  },
  {
   "cell_type": "code",
   "execution_count": 7,
   "metadata": {},
   "outputs": [
    {
     "name": "stdout",
     "output_type": "stream",
     "text": [
      "50\n"
     ]
    }
   ],
   "source": [
    "import json\n",
    "\n",
    "part_1_gens = json.load(open(part_1_path, 'r'))\n",
    "part_2_gens = json.load(open(part_2_path, 'r'))\n",
    "part_3_gens = json.load(open(part_3_path, 'r'))\n",
    "all_gens = part_1_gens + part_2_gens + part_3_gens\n",
    "print(len(all_gens))"
   ]
  },
  {
   "cell_type": "code",
   "execution_count": 8,
   "metadata": {},
   "outputs": [
    {
     "name": "stdout",
     "output_type": "stream",
     "text": [
      "saved 50 at \"./CodeLlama-13b-Python-hf-temp0.8-p0.95-k5-bf16-n200-batch10-maxlen1024-java-generations-0-50_multiple-java.json\"\n"
     ]
    }
   ],
   "source": [
    "merged_path = f'./CodeLlama-13b-Python-hf-temp{t}-p{p}-k{k}-bf16-n200-batch10-maxlen1024-java-generations-0-50_multiple-java.json'\n",
    "json.dump(all_gens, open(merged_path, 'w'))\n",
    "print(f'saved {len(all_gens)} at \"{merged_path}\"')"
   ]
  },
  {
   "cell_type": "code",
   "execution_count": null,
   "metadata": {},
   "outputs": [],
   "source": []
  }
 ],
 "metadata": {
  "kernelspec": {
   "display_name": "bigcode-evaluation-harness",
   "language": "python",
   "name": "python3"
  },
  "language_info": {
   "codemirror_mode": {
    "name": "ipython",
    "version": 3
   },
   "file_extension": ".py",
   "mimetype": "text/x-python",
   "name": "python",
   "nbconvert_exporter": "python",
   "pygments_lexer": "ipython3",
   "version": "3.11.2"
  }
 },
 "nbformat": 4,
 "nbformat_minor": 2
}
