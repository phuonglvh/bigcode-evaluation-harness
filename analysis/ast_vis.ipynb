{
 "cells": [
  {
   "cell_type": "code",
   "execution_count": 6,
   "metadata": {},
   "outputs": [
    {
     "name": "stdout",
     "output_type": "stream",
     "text": [
      "Requirement already satisfied: ctree in /Users/phuonglvh/.virtualenvs/bigcode-evaluation-harness/lib/python3.12/site-packages (0.1.9)\n",
      "Requirement already satisfied: numpy in /Users/phuonglvh/.virtualenvs/bigcode-evaluation-harness/lib/python3.12/site-packages (from ctree) (1.26.4)\n",
      "Requirement already satisfied: pyserial in /Users/phuonglvh/.virtualenvs/bigcode-evaluation-harness/lib/python3.12/site-packages (from ctree) (3.5)\n",
      "\n",
      "\u001b[1m[\u001b[0m\u001b[34;49mnotice\u001b[0m\u001b[1;39;49m]\u001b[0m\u001b[39;49m A new release of pip is available: \u001b[0m\u001b[31;49m24.0\u001b[0m\u001b[39;49m -> \u001b[0m\u001b[32;49m24.3.1\u001b[0m\n",
      "\u001b[1m[\u001b[0m\u001b[34;49mnotice\u001b[0m\u001b[1;39;49m]\u001b[0m\u001b[39;49m To update, run: \u001b[0m\u001b[32;49mpip install --upgrade pip\u001b[0m\n",
      "Note: you may need to restart the kernel to use updated packages.\n"
     ]
    }
   ],
   "source": [
    "pip install ctree"
   ]
  },
  {
   "cell_type": "code",
   "execution_count": 7,
   "metadata": {},
   "outputs": [
    {
     "ename": "AttributeError",
     "evalue": "'ConfigParser' object has no attribute 'readfp'",
     "output_type": "error",
     "traceback": [
      "\u001b[0;31m---------------------------------------------------------------------------\u001b[0m",
      "\u001b[0;31mAttributeError\u001b[0m                            Traceback (most recent call last)",
      "Cell \u001b[0;32mIn[7], line 1\u001b[0m\n\u001b[0;32m----> 1\u001b[0m \u001b[38;5;28;01mimport\u001b[39;00m \u001b[38;5;21;01mctree\u001b[39;00m\n\u001b[1;32m      3\u001b[0m \u001b[38;5;28;01mdef\u001b[39;00m \u001b[38;5;21mf\u001b[39m(a):\n\u001b[1;32m      4\u001b[0m     \u001b[38;5;28;01mfor\u001b[39;00m x \u001b[38;5;129;01min\u001b[39;00m \u001b[38;5;28mrange\u001b[39m(\u001b[38;5;241m10\u001b[39m):\n",
      "File \u001b[0;32m~/.virtualenvs/bigcode-evaluation-harness/lib/python3.12/site-packages/ctree/__init__.py:44\u001b[0m\n\u001b[1;32m     41\u001b[0m DEFAULT_CFG_FILE_PATH \u001b[38;5;241m=\u001b[39m path\u001b[38;5;241m.\u001b[39mjoin(path\u001b[38;5;241m.\u001b[39mabspath(path\u001b[38;5;241m.\u001b[39mdirname(\u001b[38;5;18m__file__\u001b[39m)), \u001b[38;5;124m\"\u001b[39m\u001b[38;5;124mdefaults.cfg\u001b[39m\u001b[38;5;124m\"\u001b[39m)\n\u001b[1;32m     42\u001b[0m LOG\u001b[38;5;241m.\u001b[39minfo(\u001b[38;5;124m\"\u001b[39m\u001b[38;5;124mreading default configuration from: \u001b[39m\u001b[38;5;132;01m%s\u001b[39;00m\u001b[38;5;124m\"\u001b[39m, DEFAULT_CFG_FILE_PATH)\n\u001b[0;32m---> 44\u001b[0m \u001b[43mCONFIG\u001b[49m\u001b[38;5;241;43m.\u001b[39;49m\u001b[43mreadfp\u001b[49m(\u001b[38;5;28mopen\u001b[39m(DEFAULT_CFG_FILE_PATH), filename\u001b[38;5;241m=\u001b[39m\u001b[38;5;124m\"\u001b[39m\u001b[38;5;124mdefaults.cfg\u001b[39m\u001b[38;5;124m\"\u001b[39m)\n\u001b[1;32m     46\u001b[0m CFG_PATHS \u001b[38;5;241m=\u001b[39m [\n\u001b[1;32m     47\u001b[0m     path\u001b[38;5;241m.\u001b[39mexpanduser(\u001b[38;5;124m'\u001b[39m\u001b[38;5;124m~/.ctree.cfg\u001b[39m\u001b[38;5;124m'\u001b[39m),\n\u001b[1;32m     48\u001b[0m     path\u001b[38;5;241m.\u001b[39mjoin(getcwd(), \u001b[38;5;124m\"\u001b[39m\u001b[38;5;124m.ctree.cfg\u001b[39m\u001b[38;5;124m\"\u001b[39m),\n\u001b[1;32m     49\u001b[0m ]\n\u001b[1;32m     50\u001b[0m LOG\u001b[38;5;241m.\u001b[39minfo(\u001b[38;5;124m\"\u001b[39m\u001b[38;5;124mchecking for config files at: \u001b[39m\u001b[38;5;132;01m%s\u001b[39;00m\u001b[38;5;124m\"\u001b[39m, CFG_PATHS)\n",
      "\u001b[0;31mAttributeError\u001b[0m: 'ConfigParser' object has no attribute 'readfp'"
     ]
    }
   ],
   "source": [
    "import ctree\n",
    "\n",
    "def f(a):\n",
    "    for x in range(10):\n",
    "        a[x] += x\n",
    "\n",
    "tree1 = ctree.get_ast(f)\n",
    "ctree.ipython_show_ast(tree1)"
   ]
  },
  {
   "cell_type": "code",
   "execution_count": null,
   "metadata": {},
   "outputs": [],
   "source": [
    "from ctree.transformations import PyBasicConversions\n",
    "\n",
    "t = PyBasicConversions()\n",
    "tree2 = t.visit(tree1)\n",
    "ctree.ipython_show_ast(tree2)"
   ]
  },
  {
   "cell_type": "code",
   "execution_count": 24,
   "metadata": {},
   "outputs": [],
   "source": [
    "def visualize_ast(node, graph=None):\n",
    "    if graph is None:\n",
    "        graph = pgv.AGraph(directed=True)\n",
    "\n",
    "    node_id = str(id(node))\n",
    "    graph.add_node(node_id, label=type(node).__name__)\n",
    "\n",
    "    for child in ast.iter_child_nodes(node):\n",
    "        child_id = str(id(child))\n",
    "        graph.add_node(child_id, label=type(child).__name__)\n",
    "        graph.add_edge(node_id, child_id)\n",
    "        visualize_ast(child, graph)\n",
    "\n",
    "    return graph"
   ]
  },
  {
   "cell_type": "code",
   "execution_count": 25,
   "metadata": {},
   "outputs": [
    {
     "ename": "NameError",
     "evalue": "name 'pgv' is not defined",
     "output_type": "error",
     "traceback": [
      "\u001b[0;31m---------------------------------------------------------------------------\u001b[0m",
      "\u001b[0;31mNameError\u001b[0m                                 Traceback (most recent call last)",
      "Cell \u001b[0;32mIn[25], line 15\u001b[0m\n\u001b[1;32m     12\u001b[0m parsed_ast \u001b[38;5;241m=\u001b[39m ast\u001b[38;5;241m.\u001b[39mparse(source_code)\n\u001b[1;32m     14\u001b[0m \u001b[38;5;66;03m# Visualize the parsed AST\u001b[39;00m\n\u001b[0;32m---> 15\u001b[0m ast_graph \u001b[38;5;241m=\u001b[39m \u001b[43mvisualize_ast\u001b[49m\u001b[43m(\u001b[49m\u001b[43mparsed_ast\u001b[49m\u001b[43m)\u001b[49m\n\u001b[1;32m     17\u001b[0m \u001b[38;5;66;03m# Render the graph and save it as 'ast_visualization.jpg'\u001b[39;00m\n\u001b[1;32m     18\u001b[0m \u001b[38;5;66;03m# The cleanup argument removes the source file\u001b[39;00m\n\u001b[1;32m     19\u001b[0m ast_graph\u001b[38;5;241m.\u001b[39mrender(\u001b[38;5;124m'\u001b[39m\u001b[38;5;124mast_visualization\u001b[39m\u001b[38;5;124m'\u001b[39m)\n",
      "Cell \u001b[0;32mIn[24], line 3\u001b[0m, in \u001b[0;36mvisualize_ast\u001b[0;34m(node, graph)\u001b[0m\n\u001b[1;32m      1\u001b[0m \u001b[38;5;28;01mdef\u001b[39;00m \u001b[38;5;21mvisualize_ast\u001b[39m(node, graph\u001b[38;5;241m=\u001b[39m\u001b[38;5;28;01mNone\u001b[39;00m):\n\u001b[1;32m      2\u001b[0m     \u001b[38;5;28;01mif\u001b[39;00m graph \u001b[38;5;129;01mis\u001b[39;00m \u001b[38;5;28;01mNone\u001b[39;00m:\n\u001b[0;32m----> 3\u001b[0m         graph \u001b[38;5;241m=\u001b[39m \u001b[43mpgv\u001b[49m\u001b[38;5;241m.\u001b[39mAGraph(directed\u001b[38;5;241m=\u001b[39m\u001b[38;5;28;01mTrue\u001b[39;00m)\n\u001b[1;32m      5\u001b[0m     node_id \u001b[38;5;241m=\u001b[39m \u001b[38;5;28mstr\u001b[39m(\u001b[38;5;28mid\u001b[39m(node))\n\u001b[1;32m      6\u001b[0m     graph\u001b[38;5;241m.\u001b[39madd_node(node_id, label\u001b[38;5;241m=\u001b[39m\u001b[38;5;28mtype\u001b[39m(node)\u001b[38;5;241m.\u001b[39m\u001b[38;5;18m__name__\u001b[39m)\n",
      "\u001b[0;31mNameError\u001b[0m: name 'pgv' is not defined"
     ]
    }
   ],
   "source": [
    "import graphviz\n",
    "\n",
    "import ast\n",
    "\n",
    "# Example Python function\n",
    "source_code = \"\"\"\n",
    "def add(a, b):\n",
    "    return a + b\n",
    "\"\"\"\n",
    "\n",
    "# Parse the source code into an AST\n",
    "parsed_ast = ast.parse(source_code)\n",
    "\n",
    "# Visualize the parsed AST\n",
    "ast_graph = visualize_ast(parsed_ast)\n",
    "\n",
    "# Render the graph and save it as 'ast_visualization.jpg'\n",
    "# The cleanup argument removes the source file\n",
    "ast_graph.render('ast_visualization')"
   ]
  },
  {
   "cell_type": "code",
   "execution_count": 2,
   "metadata": {},
   "outputs": [
    {
     "name": "stdout",
     "output_type": "stream",
     "text": [
      "Collecting astpretty\n",
      "  Downloading astpretty-3.0.0-py2.py3-none-any.whl.metadata (5.5 kB)\n",
      "Downloading astpretty-3.0.0-py2.py3-none-any.whl (4.9 kB)\n",
      "Installing collected packages: astpretty\n",
      "Successfully installed astpretty-3.0.0\n",
      "\n",
      "\u001b[1m[\u001b[0m\u001b[34;49mnotice\u001b[0m\u001b[1;39;49m]\u001b[0m\u001b[39;49m A new release of pip is available: \u001b[0m\u001b[31;49m24.0\u001b[0m\u001b[39;49m -> \u001b[0m\u001b[32;49m24.3.1\u001b[0m\n",
      "\u001b[1m[\u001b[0m\u001b[34;49mnotice\u001b[0m\u001b[1;39;49m]\u001b[0m\u001b[39;49m To update, run: \u001b[0m\u001b[32;49mpip install --upgrade pip\u001b[0m\n",
      "Note: you may need to restart the kernel to use updated packages.\n"
     ]
    }
   ],
   "source": [
    "pip install astpretty"
   ]
  },
  {
   "cell_type": "code",
   "execution_count": 2,
   "metadata": {},
   "outputs": [
    {
     "ename": "ModuleNotFoundError",
     "evalue": "No module named 'pygraphviz'",
     "output_type": "error",
     "traceback": [
      "\u001b[0;31m---------------------------------------------------------------------------\u001b[0m",
      "\u001b[0;31mModuleNotFoundError\u001b[0m                       Traceback (most recent call last)",
      "Cell \u001b[0;32mIn[2], line 1\u001b[0m\n\u001b[0;32m----> 1\u001b[0m \u001b[38;5;28;01mimport\u001b[39;00m \u001b[38;5;21;01mpygraphviz\u001b[39;00m \u001b[38;5;28;01mas\u001b[39;00m \u001b[38;5;21;01mpgv\u001b[39;00m\n\u001b[1;32m      2\u001b[0m \u001b[38;5;28;01mimport\u001b[39;00m \u001b[38;5;21;01mast\u001b[39;00m\n\u001b[1;32m      3\u001b[0m \u001b[38;5;28;01mimport\u001b[39;00m \u001b[38;5;21;01mastpretty\u001b[39;00m\n",
      "\u001b[0;31mModuleNotFoundError\u001b[0m: No module named 'pygraphviz'"
     ]
    }
   ],
   "source": [
    "import pygraphviz as pgv\n",
    "import ast\n",
    "import astpretty\n",
    "\n",
    "# Example Python function\n",
    "source_code = \"\"\"\n",
    "def add(a, b):\n",
    "    return a + b\n",
    "\"\"\"\n",
    "\n",
    "# Parse the source code into an AST\n",
    "parsed_ast = ast.parse(source_code)\n",
    "\n",
    "# Pretty print the AST\n",
    "astpretty.pprint(parsed_ast)\n",
    "\n",
    "\n",
    "def visualize_ast(node, graph=None):\n",
    "    if graph is None:\n",
    "        graph = pgv.AGraph(directed=True)\n",
    "\n",
    "    node_id = str(id(node))\n",
    "    graph.add_node(node_id, label=type(node).__name__)\n",
    "\n",
    "    for child in ast.iter_child_nodes(node):\n",
    "        child_id = str(id(child))\n",
    "        graph.add_node(child_id, label=type(child).__name__)\n",
    "        graph.add_edge(node_id, child_id)\n",
    "        visualize_ast(child, graph)\n",
    "\n",
    "    return graph\n",
    "\n",
    "\n",
    "# Parse the source code into an AST\n",
    "source_code = \"\"\"\n",
    "def add(a, b):\n",
    "    return a + b\n",
    "\"\"\"\n",
    "parsed_ast = ast.parse(source_code)\n",
    "\n",
    "# Visualize the parsed AST\n",
    "ast_graph = visualize_ast(parsed_ast)\n",
    "ast_graph.layout(prog='dot')\n",
    "# Saves the visualization as 'ast_visualization.png'\n",
    "ast_graph.draw('ast_visualization.png')"
   ]
  },
  {
   "cell_type": "code",
   "execution_count": 1,
   "metadata": {},
   "outputs": [
    {
     "name": "stdout",
     "output_type": "stream",
     "text": [
      "Module\n",
      "    FunctionDef\n",
      "        arguments\n",
      "            arg\n",
      "            arg\n",
      "        Return\n",
      "            BinOp\n",
      "                Name\n",
      "                    Load\n",
      "                Add\n",
      "                Name\n",
      "                    Load\n"
     ]
    }
   ],
   "source": [
    "import ast\n",
    "\n",
    "\n",
    "def print_ast(node, level=0):\n",
    "    print(\" \" * (level * 4) + f\"{type(node).__name__}\")\n",
    "    for child in ast.iter_child_nodes(node):\n",
    "        print_ast(child, level + 1)\n",
    "\n",
    "\n",
    "# Example Python function\n",
    "source_code = \"\"\"\n",
    "def add(a, b):\n",
    "    return a + b\n",
    "\"\"\"\n",
    "\n",
    "# Parse the source code into an AST\n",
    "parsed_ast = ast.parse(source_code)\n",
    "\n",
    "# Print the AST\n",
    "print_ast(parsed_ast)"
   ]
  }
 ],
 "metadata": {
  "kernelspec": {
   "display_name": "bigcode-evaluation-harness",
   "language": "python",
   "name": "python3"
  },
  "language_info": {
   "codemirror_mode": {
    "name": "ipython",
    "version": 3
   },
   "file_extension": ".py",
   "mimetype": "text/x-python",
   "name": "python",
   "nbconvert_exporter": "python",
   "pygments_lexer": "ipython3",
   "version": "3.12.3"
  }
 },
 "nbformat": 4,
 "nbformat_minor": 2
}
